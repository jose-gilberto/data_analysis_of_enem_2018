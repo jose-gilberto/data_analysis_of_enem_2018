{
 "cells": [
  {
   "cell_type": "code",
   "execution_count": 1,
   "metadata": {},
   "outputs": [],
   "source": [
    "import pandas as pd\n",
    "import seaborn as sns\n",
    "import scipy.stats as stats"
   ]
  },
  {
   "cell_type": "code",
   "execution_count": 2,
   "metadata": {},
   "outputs": [],
   "source": [
    "df = pd.read_csv('MICRODADOS_ENEM_2018.csv', sep=';', error_bad_lines=False, encoding='latin1',\n",
    "                 usecols=['NU_IDADE', 'TP_SEXO', 'TP_COR_RACA', 'TP_ESCOLA', \n",
    "                          'TP_ESCOLA', 'NU_NOTA_CN', 'NU_NOTA_CH', 'NU_NOTA_LC',\n",
    "                          'NU_NOTA_MT', 'Q001', 'Q002', 'Q006', 'Q024', 'Q025',\n",
    "                          'NO_MUNICIPIO_RESIDENCIA', 'SG_UF_RESIDENCIA', 'NU_NOTA_REDACAO'])"
   ]
  },
  {
   "cell_type": "code",
   "execution_count": 3,
   "metadata": {},
   "outputs": [
    {
     "data": {
      "text/html": [
       "<div>\n",
       "<style scoped>\n",
       "    .dataframe tbody tr th:only-of-type {\n",
       "        vertical-align: middle;\n",
       "    }\n",
       "\n",
       "    .dataframe tbody tr th {\n",
       "        vertical-align: top;\n",
       "    }\n",
       "\n",
       "    .dataframe thead th {\n",
       "        text-align: right;\n",
       "    }\n",
       "</style>\n",
       "<table border=\"1\" class=\"dataframe\">\n",
       "  <thead>\n",
       "    <tr style=\"text-align: right;\">\n",
       "      <th></th>\n",
       "      <th>NO_MUNICIPIO_RESIDENCIA</th>\n",
       "      <th>SG_UF_RESIDENCIA</th>\n",
       "      <th>NU_IDADE</th>\n",
       "      <th>TP_SEXO</th>\n",
       "      <th>TP_COR_RACA</th>\n",
       "      <th>TP_ESCOLA</th>\n",
       "      <th>NU_NOTA_CN</th>\n",
       "      <th>NU_NOTA_CH</th>\n",
       "      <th>NU_NOTA_LC</th>\n",
       "      <th>NU_NOTA_MT</th>\n",
       "      <th>NU_NOTA_REDACAO</th>\n",
       "      <th>Q001</th>\n",
       "      <th>Q002</th>\n",
       "      <th>Q006</th>\n",
       "      <th>Q024</th>\n",
       "      <th>Q025</th>\n",
       "    </tr>\n",
       "  </thead>\n",
       "  <tbody>\n",
       "    <tr>\n",
       "      <th>0</th>\n",
       "      <td>Brasília</td>\n",
       "      <td>DF</td>\n",
       "      <td>44.0</td>\n",
       "      <td>M</td>\n",
       "      <td>1</td>\n",
       "      <td>2</td>\n",
       "      <td>NaN</td>\n",
       "      <td>NaN</td>\n",
       "      <td>NaN</td>\n",
       "      <td>NaN</td>\n",
       "      <td>NaN</td>\n",
       "      <td>A</td>\n",
       "      <td>A</td>\n",
       "      <td>A</td>\n",
       "      <td>A</td>\n",
       "      <td>A</td>\n",
       "    </tr>\n",
       "    <tr>\n",
       "      <th>1</th>\n",
       "      <td>São João dos Patos</td>\n",
       "      <td>MA</td>\n",
       "      <td>23.0</td>\n",
       "      <td>F</td>\n",
       "      <td>3</td>\n",
       "      <td>1</td>\n",
       "      <td>521.0</td>\n",
       "      <td>568.7</td>\n",
       "      <td>513.1</td>\n",
       "      <td>480.3</td>\n",
       "      <td>280.0</td>\n",
       "      <td>B</td>\n",
       "      <td>B</td>\n",
       "      <td>B</td>\n",
       "      <td>A</td>\n",
       "      <td>A</td>\n",
       "    </tr>\n",
       "    <tr>\n",
       "      <th>2</th>\n",
       "      <td>Mogi das Cruzes</td>\n",
       "      <td>SP</td>\n",
       "      <td>23.0</td>\n",
       "      <td>F</td>\n",
       "      <td>1</td>\n",
       "      <td>1</td>\n",
       "      <td>NaN</td>\n",
       "      <td>NaN</td>\n",
       "      <td>NaN</td>\n",
       "      <td>NaN</td>\n",
       "      <td>NaN</td>\n",
       "      <td>E</td>\n",
       "      <td>E</td>\n",
       "      <td>C</td>\n",
       "      <td>B</td>\n",
       "      <td>B</td>\n",
       "    </tr>\n",
       "    <tr>\n",
       "      <th>3</th>\n",
       "      <td>Itapetinga</td>\n",
       "      <td>BA</td>\n",
       "      <td>26.0</td>\n",
       "      <td>F</td>\n",
       "      <td>3</td>\n",
       "      <td>1</td>\n",
       "      <td>NaN</td>\n",
       "      <td>NaN</td>\n",
       "      <td>NaN</td>\n",
       "      <td>NaN</td>\n",
       "      <td>NaN</td>\n",
       "      <td>B</td>\n",
       "      <td>C</td>\n",
       "      <td>B</td>\n",
       "      <td>B</td>\n",
       "      <td>B</td>\n",
       "    </tr>\n",
       "    <tr>\n",
       "      <th>4</th>\n",
       "      <td>Jeremoabo</td>\n",
       "      <td>BA</td>\n",
       "      <td>20.0</td>\n",
       "      <td>M</td>\n",
       "      <td>0</td>\n",
       "      <td>2</td>\n",
       "      <td>NaN</td>\n",
       "      <td>419.9</td>\n",
       "      <td>345.8</td>\n",
       "      <td>NaN</td>\n",
       "      <td>360.0</td>\n",
       "      <td>C</td>\n",
       "      <td>E</td>\n",
       "      <td>B</td>\n",
       "      <td>B</td>\n",
       "      <td>B</td>\n",
       "    </tr>\n",
       "  </tbody>\n",
       "</table>\n",
       "</div>"
      ],
      "text/plain": [
       "  NO_MUNICIPIO_RESIDENCIA SG_UF_RESIDENCIA  NU_IDADE TP_SEXO  TP_COR_RACA  \\\n",
       "0                Brasília               DF      44.0       M            1   \n",
       "1      São João dos Patos               MA      23.0       F            3   \n",
       "2         Mogi das Cruzes               SP      23.0       F            1   \n",
       "3              Itapetinga               BA      26.0       F            3   \n",
       "4               Jeremoabo               BA      20.0       M            0   \n",
       "\n",
       "   TP_ESCOLA  NU_NOTA_CN  NU_NOTA_CH  NU_NOTA_LC  NU_NOTA_MT  NU_NOTA_REDACAO  \\\n",
       "0          2         NaN         NaN         NaN         NaN              NaN   \n",
       "1          1       521.0       568.7       513.1       480.3            280.0   \n",
       "2          1         NaN         NaN         NaN         NaN              NaN   \n",
       "3          1         NaN         NaN         NaN         NaN              NaN   \n",
       "4          2         NaN       419.9       345.8         NaN            360.0   \n",
       "\n",
       "  Q001 Q002 Q006 Q024 Q025  \n",
       "0    A    A    A    A    A  \n",
       "1    B    B    B    A    A  \n",
       "2    E    E    C    B    B  \n",
       "3    B    C    B    B    B  \n",
       "4    C    E    B    B    B  "
      ]
     },
     "execution_count": 3,
     "metadata": {},
     "output_type": "execute_result"
    }
   ],
   "source": [
    "df.head()"
   ]
  },
  {
   "cell_type": "code",
   "execution_count": 4,
   "metadata": {},
   "outputs": [
    {
     "data": {
      "text/plain": [
       "Index                           128\n",
       "NO_MUNICIPIO_RESIDENCIA    44109976\n",
       "SG_UF_RESIDENCIA           44109976\n",
       "NU_IDADE                   44109976\n",
       "TP_SEXO                    44109976\n",
       "TP_COR_RACA                44109976\n",
       "TP_ESCOLA                  44109976\n",
       "NU_NOTA_CN                 44109976\n",
       "NU_NOTA_CH                 44109976\n",
       "NU_NOTA_LC                 44109976\n",
       "NU_NOTA_MT                 44109976\n",
       "NU_NOTA_REDACAO            44109976\n",
       "Q001                       44109976\n",
       "Q002                       44109976\n",
       "Q006                       44109976\n",
       "Q024                       44109976\n",
       "Q025                       44109976\n",
       "dtype: int64"
      ]
     },
     "execution_count": 4,
     "metadata": {},
     "output_type": "execute_result"
    }
   ],
   "source": [
    "df.memory_usage()"
   ]
  },
  {
   "cell_type": "code",
   "execution_count": 5,
   "metadata": {},
   "outputs": [
    {
     "data": {
      "text/plain": [
       "(5513747, 16)"
      ]
     },
     "execution_count": 5,
     "metadata": {},
     "output_type": "execute_result"
    }
   ],
   "source": [
    "df.shape"
   ]
  },
  {
   "cell_type": "code",
   "execution_count": 6,
   "metadata": {},
   "outputs": [
    {
     "name": "stdout",
     "output_type": "stream",
     "text": [
      "<class 'pandas.core.frame.DataFrame'>\n",
      "RangeIndex: 5513747 entries, 0 to 5513746\n",
      "Data columns (total 16 columns):\n",
      " #   Column                   Dtype  \n",
      "---  ------                   -----  \n",
      " 0   NO_MUNICIPIO_RESIDENCIA  object \n",
      " 1   SG_UF_RESIDENCIA         object \n",
      " 2   NU_IDADE                 float64\n",
      " 3   TP_SEXO                  object \n",
      " 4   TP_COR_RACA              int64  \n",
      " 5   TP_ESCOLA                int64  \n",
      " 6   NU_NOTA_CN               float64\n",
      " 7   NU_NOTA_CH               float64\n",
      " 8   NU_NOTA_LC               float64\n",
      " 9   NU_NOTA_MT               float64\n",
      " 10  NU_NOTA_REDACAO          float64\n",
      " 11  Q001                     object \n",
      " 12  Q002                     object \n",
      " 13  Q006                     object \n",
      " 14  Q024                     object \n",
      " 15  Q025                     object \n",
      "dtypes: float64(6), int64(2), object(8)\n",
      "memory usage: 673.1+ MB\n"
     ]
    }
   ],
   "source": [
    "df.info()"
   ]
  },
  {
   "cell_type": "code",
   "execution_count": 7,
   "metadata": {},
   "outputs": [],
   "source": [
    "df['TP_SEXO'] = df['TP_SEXO'].astype('category')"
   ]
  },
  {
   "cell_type": "code",
   "execution_count": 8,
   "metadata": {},
   "outputs": [
    {
     "name": "stdout",
     "output_type": "stream",
     "text": [
      "<class 'pandas.core.frame.DataFrame'>\n",
      "RangeIndex: 5513747 entries, 0 to 5513746\n",
      "Data columns (total 16 columns):\n",
      " #   Column                   Dtype   \n",
      "---  ------                   -----   \n",
      " 0   NO_MUNICIPIO_RESIDENCIA  object  \n",
      " 1   SG_UF_RESIDENCIA         object  \n",
      " 2   NU_IDADE                 float64 \n",
      " 3   TP_SEXO                  category\n",
      " 4   TP_COR_RACA              int64   \n",
      " 5   TP_ESCOLA                int64   \n",
      " 6   NU_NOTA_CN               float64 \n",
      " 7   NU_NOTA_CH               float64 \n",
      " 8   NU_NOTA_LC               float64 \n",
      " 9   NU_NOTA_MT               float64 \n",
      " 10  NU_NOTA_REDACAO          float64 \n",
      " 11  Q001                     object  \n",
      " 12  Q002                     object  \n",
      " 13  Q006                     object  \n",
      " 14  Q024                     object  \n",
      " 15  Q025                     object  \n",
      "dtypes: category(1), float64(6), int64(2), object(7)\n",
      "memory usage: 636.3+ MB\n"
     ]
    }
   ],
   "source": [
    "df.info()"
   ]
  },
  {
   "cell_type": "code",
   "execution_count": 9,
   "metadata": {},
   "outputs": [
    {
     "data": {
      "text/plain": [
       "NO_MUNICIPIO_RESIDENCIA          0\n",
       "SG_UF_RESIDENCIA                 0\n",
       "NU_IDADE                        97\n",
       "TP_SEXO                          0\n",
       "TP_COR_RACA                      0\n",
       "TP_ESCOLA                        0\n",
       "NU_NOTA_CN                 1608648\n",
       "NU_NOTA_CH                 1365483\n",
       "NU_NOTA_LC                 1365483\n",
       "NU_NOTA_MT                 1608648\n",
       "NU_NOTA_REDACAO            1365483\n",
       "Q001                             0\n",
       "Q002                             0\n",
       "Q006                             0\n",
       "Q024                             0\n",
       "Q025                             0\n",
       "dtype: int64"
      ]
     },
     "execution_count": 9,
     "metadata": {},
     "output_type": "execute_result"
    }
   ],
   "source": [
    "df.isnull().sum()"
   ]
  },
  {
   "cell_type": "code",
   "execution_count": 10,
   "metadata": {},
   "outputs": [
    {
     "data": {
      "text/plain": [
       "NO_MUNICIPIO_RESIDENCIA    0\n",
       "SG_UF_RESIDENCIA           0\n",
       "NU_IDADE                   0\n",
       "TP_SEXO                    0\n",
       "TP_COR_RACA                0\n",
       "TP_ESCOLA                  0\n",
       "NU_NOTA_CN                 0\n",
       "NU_NOTA_CH                 0\n",
       "NU_NOTA_LC                 0\n",
       "NU_NOTA_MT                 0\n",
       "NU_NOTA_REDACAO            0\n",
       "Q001                       0\n",
       "Q002                       0\n",
       "Q006                       0\n",
       "Q024                       0\n",
       "Q025                       0\n",
       "dtype: int64"
      ]
     },
     "execution_count": 10,
     "metadata": {},
     "output_type": "execute_result"
    }
   ],
   "source": [
    "df.dropna(inplace=True)\n",
    "df.isnull().sum()"
   ]
  },
  {
   "cell_type": "code",
   "execution_count": 11,
   "metadata": {},
   "outputs": [
    {
     "name": "stdout",
     "output_type": "stream",
     "text": [
      "<class 'pandas.core.frame.DataFrame'>\n",
      "Int64Index: 3893671 entries, 1 to 5513746\n",
      "Data columns (total 16 columns):\n",
      " #   Column                   Dtype   \n",
      "---  ------                   -----   \n",
      " 0   NO_MUNICIPIO_RESIDENCIA  object  \n",
      " 1   SG_UF_RESIDENCIA         object  \n",
      " 2   NU_IDADE                 float64 \n",
      " 3   TP_SEXO                  category\n",
      " 4   TP_COR_RACA              int64   \n",
      " 5   TP_ESCOLA                int64   \n",
      " 6   NU_NOTA_CN               float64 \n",
      " 7   NU_NOTA_CH               float64 \n",
      " 8   NU_NOTA_LC               float64 \n",
      " 9   NU_NOTA_MT               float64 \n",
      " 10  NU_NOTA_REDACAO          float64 \n",
      " 11  Q001                     object  \n",
      " 12  Q002                     object  \n",
      " 13  Q006                     object  \n",
      " 14  Q024                     object  \n",
      " 15  Q025                     object  \n",
      "dtypes: category(1), float64(6), int64(2), object(7)\n",
      "memory usage: 479.0+ MB\n"
     ]
    }
   ],
   "source": [
    "df.info()"
   ]
  },
  {
   "cell_type": "code",
   "execution_count": 12,
   "metadata": {},
   "outputs": [],
   "source": [
    "def parents_schooling(ans):\n",
    "    schooling_dict = {\n",
    "        'A': 'Nunca estudou',\n",
    "        'B': 'Não completou a 4ªserie/5ºano',\n",
    "        'C': 'Completou a 4ªserie/5ºano mas não completou a 8ªserie/9ºano',\n",
    "        'D': 'Completou a 8ªsérie/9ºano mas não completou o ensino médio',\n",
    "        'E': 'Completou o ensino médio mas não a faculdade',\n",
    "        'F': 'Completou a faculdade mas não completou a pós',\n",
    "        'G': 'Completou a pós-graduação',\n",
    "        'H': 'Não sei'\n",
    "    }\n",
    "    return schooling_dict[ans]"
   ]
  },
  {
   "cell_type": "code",
   "execution_count": 13,
   "metadata": {},
   "outputs": [],
   "source": [
    "def family_income(ans):\n",
    "    incoming_dict = {\n",
    "        'A': 'Nenhuma renda',\n",
    "        'B': 'Até R$ 954,00',\n",
    "        'C': 'De R$ 954,01 até R$ 1431,00',\n",
    "        'D': 'De R$ R$ 1431,01 até R$ 1908,00',\n",
    "        'E': 'De R$ R$ 1908,01 até R$ 2385,00',\n",
    "        'F': 'De R$ R$ 2385,01 até R$ 2862,00',\n",
    "        'G': 'De R$ R$ 2862,01 até R$ 3816,00',\n",
    "        'H': 'De R$ R$ 3816,01 até R$ 4770,00',\n",
    "        'I': 'De R$ R$ 4770,01 até R$ 5724,00',\n",
    "        'J': 'De R$ R$ 5724,01 até R$ 6678,00',\n",
    "        'K': 'De R$ R$ 6678,01 até R$ 7632,00',\n",
    "        'L': 'De R$ R$ 7632,01 até R$ 8586,00',\n",
    "        'M': 'De R$ R$ 8586,01 até R$ 9540,00',\n",
    "        'N': 'De R$ R$ 9540,01 até R$ 11.448,00',\n",
    "        'O': 'De R$ R$ 11.448,01 até R$ 14.310,00',\n",
    "        'P': 'De R$ R$ 14.310,01 até R$ 19.080,00',\n",
    "        'Q': 'Mais de R$ 19.080,00'\n",
    "    }\n",
    "    return incoming_dict[ans]"
   ]
  },
  {
   "cell_type": "code",
   "execution_count": 14,
   "metadata": {},
   "outputs": [],
   "source": [
    "def have_computer(ans):\n",
    "    computer_dict = {\n",
    "        'A': 'Não',\n",
    "        'B': 'Sim, um',\n",
    "        'C': 'Sim, dois',\n",
    "        'D': 'Sim, três',\n",
    "        'E': 'Sim, quatro ou mais'\n",
    "    }\n",
    "    return computer_dict[ans]"
   ]
  },
  {
   "cell_type": "code",
   "execution_count": 15,
   "metadata": {},
   "outputs": [],
   "source": [
    "def have_internet(ans):\n",
    "    return 'Sim' if ans == 'B' else 'Não'"
   ]
  },
  {
   "cell_type": "code",
   "execution_count": 16,
   "metadata": {},
   "outputs": [],
   "source": [
    "df['father_schooling'] = df['Q001'].apply(parents_schooling)"
   ]
  },
  {
   "cell_type": "code",
   "execution_count": 17,
   "metadata": {},
   "outputs": [],
   "source": [
    "df['mother_schooling'] = df['Q002'].apply(parents_schooling)"
   ]
  },
  {
   "cell_type": "code",
   "execution_count": 18,
   "metadata": {},
   "outputs": [],
   "source": [
    "df['family_income'] = df['Q006'].apply(family_income)"
   ]
  },
  {
   "cell_type": "code",
   "execution_count": 19,
   "metadata": {},
   "outputs": [],
   "source": [
    "df['has_computer'] = df['Q024'].apply(have_computer)"
   ]
  },
  {
   "cell_type": "code",
   "execution_count": 20,
   "metadata": {},
   "outputs": [],
   "source": [
    "df['has_internet'] = df['Q025'].apply(have_internet)"
   ]
  },
  {
   "cell_type": "code",
   "execution_count": 21,
   "metadata": {},
   "outputs": [],
   "source": [
    "df.drop(columns=['Q001', 'Q002', 'Q006', 'Q024', 'Q025'], inplace=True)"
   ]
  },
  {
   "cell_type": "code",
   "execution_count": 22,
   "metadata": {},
   "outputs": [
    {
     "name": "stdout",
     "output_type": "stream",
     "text": [
      "<class 'pandas.core.frame.DataFrame'>\n",
      "Int64Index: 3893671 entries, 1 to 5513746\n",
      "Data columns (total 16 columns):\n",
      " #   Column                   Dtype   \n",
      "---  ------                   -----   \n",
      " 0   NO_MUNICIPIO_RESIDENCIA  object  \n",
      " 1   SG_UF_RESIDENCIA         object  \n",
      " 2   NU_IDADE                 float64 \n",
      " 3   TP_SEXO                  category\n",
      " 4   TP_COR_RACA              int64   \n",
      " 5   TP_ESCOLA                int64   \n",
      " 6   NU_NOTA_CN               float64 \n",
      " 7   NU_NOTA_CH               float64 \n",
      " 8   NU_NOTA_LC               float64 \n",
      " 9   NU_NOTA_MT               float64 \n",
      " 10  NU_NOTA_REDACAO          float64 \n",
      " 11  father_schooling         object  \n",
      " 12  mother_schooling         object  \n",
      " 13  family_income            object  \n",
      " 14  has_computer             object  \n",
      " 15  has_internet             object  \n",
      "dtypes: category(1), float64(6), int64(2), object(7)\n",
      "memory usage: 479.0+ MB\n"
     ]
    }
   ],
   "source": [
    "df.info()"
   ]
  },
  {
   "cell_type": "code",
   "execution_count": 23,
   "metadata": {},
   "outputs": [],
   "source": [
    "def replace_race(ans):\n",
    "    race_dict = {\n",
    "        0: 'Não declarado',\n",
    "        1: 'Branca',\n",
    "        2: 'Preta',\n",
    "        3: 'Parda',\n",
    "        4: 'Amarela',\n",
    "        5: 'Indígena'\n",
    "    }\n",
    "    return race_dict[ans]"
   ]
  },
  {
   "cell_type": "code",
   "execution_count": 24,
   "metadata": {},
   "outputs": [],
   "source": [
    "def school_type(ans):\n",
    "    school_dict = {\n",
    "        1: 'Não respondeu',\n",
    "        2: 'Pública',\n",
    "        3: 'Privada',\n",
    "        4: 'Exterior'\n",
    "    }\n",
    "    return school_dict[ans]"
   ]
  },
  {
   "cell_type": "code",
   "execution_count": 25,
   "metadata": {},
   "outputs": [],
   "source": [
    "df['color/race'] = df['TP_COR_RACA'].apply(replace_race)"
   ]
  },
  {
   "cell_type": "code",
   "execution_count": 26,
   "metadata": {},
   "outputs": [],
   "source": [
    "df['TP_ESCOLA'] = df['TP_ESCOLA'].astype('int32')\n",
    "df['school_type'] = df['TP_ESCOLA'].apply(school_type)"
   ]
  },
  {
   "cell_type": "code",
   "execution_count": 27,
   "metadata": {},
   "outputs": [],
   "source": [
    "df.drop(columns=['TP_ESCOLA', 'TP_COR_RACA'], inplace=True)"
   ]
  },
  {
   "cell_type": "code",
   "execution_count": 28,
   "metadata": {},
   "outputs": [
    {
     "name": "stdout",
     "output_type": "stream",
     "text": [
      "<class 'pandas.core.frame.DataFrame'>\n",
      "Int64Index: 3893671 entries, 1 to 5513746\n",
      "Data columns (total 16 columns):\n",
      " #   Column                   Dtype   \n",
      "---  ------                   -----   \n",
      " 0   NO_MUNICIPIO_RESIDENCIA  object  \n",
      " 1   SG_UF_RESIDENCIA         object  \n",
      " 2   NU_IDADE                 float64 \n",
      " 3   TP_SEXO                  category\n",
      " 4   NU_NOTA_CN               float64 \n",
      " 5   NU_NOTA_CH               float64 \n",
      " 6   NU_NOTA_LC               float64 \n",
      " 7   NU_NOTA_MT               float64 \n",
      " 8   NU_NOTA_REDACAO          float64 \n",
      " 9   father_schooling         object  \n",
      " 10  mother_schooling         object  \n",
      " 11  family_income            object  \n",
      " 12  has_computer             object  \n",
      " 13  has_internet             object  \n",
      " 14  color/race               object  \n",
      " 15  school_type              object  \n",
      "dtypes: category(1), float64(6), object(9)\n",
      "memory usage: 479.0+ MB\n"
     ]
    }
   ],
   "source": [
    "df.info()"
   ]
  },
  {
   "cell_type": "code",
   "execution_count": 29,
   "metadata": {},
   "outputs": [],
   "source": [
    "df['NU_IDADE'] = df['NU_IDADE'].astype('int32')"
   ]
  },
  {
   "cell_type": "code",
   "execution_count": 30,
   "metadata": {},
   "outputs": [
    {
     "data": {
      "text/plain": [
       "(3893671, 16)"
      ]
     },
     "execution_count": 30,
     "metadata": {},
     "output_type": "execute_result"
    }
   ],
   "source": [
    "df.shape"
   ]
  },
  {
   "cell_type": "code",
   "execution_count": 31,
   "metadata": {},
   "outputs": [
    {
     "data": {
      "text/plain": [
       "532.1440152750863"
      ]
     },
     "execution_count": 31,
     "metadata": {},
     "output_type": "execute_result"
    }
   ],
   "source": [
    "df['mean_score'] = df[['NU_NOTA_CN', 'NU_NOTA_CH', 'NU_NOTA_LC', 'NU_NOTA_MT']].mean(axis=1)\n",
    "df['mean_score'].mean()"
   ]
  },
  {
   "cell_type": "code",
   "execution_count": 32,
   "metadata": {},
   "outputs": [
    {
     "data": {
      "text/html": [
       "<div>\n",
       "<style scoped>\n",
       "    .dataframe tbody tr th:only-of-type {\n",
       "        vertical-align: middle;\n",
       "    }\n",
       "\n",
       "    .dataframe tbody tr th {\n",
       "        vertical-align: top;\n",
       "    }\n",
       "\n",
       "    .dataframe thead th {\n",
       "        text-align: right;\n",
       "    }\n",
       "</style>\n",
       "<table border=\"1\" class=\"dataframe\">\n",
       "  <thead>\n",
       "    <tr style=\"text-align: right;\">\n",
       "      <th></th>\n",
       "      <th>NU_IDADE</th>\n",
       "      <th>NU_NOTA_CN</th>\n",
       "      <th>NU_NOTA_CH</th>\n",
       "      <th>NU_NOTA_LC</th>\n",
       "      <th>NU_NOTA_MT</th>\n",
       "      <th>NU_NOTA_REDACAO</th>\n",
       "      <th>mean_score</th>\n",
       "    </tr>\n",
       "  </thead>\n",
       "  <tbody>\n",
       "    <tr>\n",
       "      <th>count</th>\n",
       "      <td>3.893671e+06</td>\n",
       "      <td>3.893671e+06</td>\n",
       "      <td>3.893671e+06</td>\n",
       "      <td>3.893671e+06</td>\n",
       "      <td>3.893671e+06</td>\n",
       "      <td>3.893671e+06</td>\n",
       "      <td>3.893671e+06</td>\n",
       "    </tr>\n",
       "    <tr>\n",
       "      <th>mean</th>\n",
       "      <td>2.140588e+01</td>\n",
       "      <td>4.937584e+02</td>\n",
       "      <td>5.708116e+02</td>\n",
       "      <td>5.285162e+02</td>\n",
       "      <td>5.354898e+02</td>\n",
       "      <td>5.160582e+02</td>\n",
       "      <td>5.321440e+02</td>\n",
       "    </tr>\n",
       "    <tr>\n",
       "      <th>std</th>\n",
       "      <td>7.092174e+00</td>\n",
       "      <td>7.412505e+01</td>\n",
       "      <td>7.918564e+01</td>\n",
       "      <td>7.225214e+01</td>\n",
       "      <td>1.031111e+02</td>\n",
       "      <td>1.843693e+02</td>\n",
       "      <td>6.829582e+01</td>\n",
       "    </tr>\n",
       "    <tr>\n",
       "      <th>min</th>\n",
       "      <td>1.000000e+01</td>\n",
       "      <td>0.000000e+00</td>\n",
       "      <td>0.000000e+00</td>\n",
       "      <td>0.000000e+00</td>\n",
       "      <td>0.000000e+00</td>\n",
       "      <td>0.000000e+00</td>\n",
       "      <td>0.000000e+00</td>\n",
       "    </tr>\n",
       "    <tr>\n",
       "      <th>25%</th>\n",
       "      <td>1.700000e+01</td>\n",
       "      <td>4.358000e+02</td>\n",
       "      <td>5.134000e+02</td>\n",
       "      <td>4.780000e+02</td>\n",
       "      <td>4.553000e+02</td>\n",
       "      <td>3.600000e+02</td>\n",
       "      <td>4.803500e+02</td>\n",
       "    </tr>\n",
       "    <tr>\n",
       "      <th>50%</th>\n",
       "      <td>1.900000e+01</td>\n",
       "      <td>4.834000e+02</td>\n",
       "      <td>5.849000e+02</td>\n",
       "      <td>5.334000e+02</td>\n",
       "      <td>5.166000e+02</td>\n",
       "      <td>5.200000e+02</td>\n",
       "      <td>5.239250e+02</td>\n",
       "    </tr>\n",
       "    <tr>\n",
       "      <th>75%</th>\n",
       "      <td>2.200000e+01</td>\n",
       "      <td>5.424000e+02</td>\n",
       "      <td>6.297000e+02</td>\n",
       "      <td>5.813000e+02</td>\n",
       "      <td>6.008000e+02</td>\n",
       "      <td>6.400000e+02</td>\n",
       "      <td>5.753750e+02</td>\n",
       "    </tr>\n",
       "    <tr>\n",
       "      <th>max</th>\n",
       "      <td>9.000000e+01</td>\n",
       "      <td>8.696000e+02</td>\n",
       "      <td>8.504000e+02</td>\n",
       "      <td>8.169000e+02</td>\n",
       "      <td>9.961000e+02</td>\n",
       "      <td>1.000000e+03</td>\n",
       "      <td>8.487750e+02</td>\n",
       "    </tr>\n",
       "  </tbody>\n",
       "</table>\n",
       "</div>"
      ],
      "text/plain": [
       "           NU_IDADE    NU_NOTA_CN    NU_NOTA_CH    NU_NOTA_LC    NU_NOTA_MT  \\\n",
       "count  3.893671e+06  3.893671e+06  3.893671e+06  3.893671e+06  3.893671e+06   \n",
       "mean   2.140588e+01  4.937584e+02  5.708116e+02  5.285162e+02  5.354898e+02   \n",
       "std    7.092174e+00  7.412505e+01  7.918564e+01  7.225214e+01  1.031111e+02   \n",
       "min    1.000000e+01  0.000000e+00  0.000000e+00  0.000000e+00  0.000000e+00   \n",
       "25%    1.700000e+01  4.358000e+02  5.134000e+02  4.780000e+02  4.553000e+02   \n",
       "50%    1.900000e+01  4.834000e+02  5.849000e+02  5.334000e+02  5.166000e+02   \n",
       "75%    2.200000e+01  5.424000e+02  6.297000e+02  5.813000e+02  6.008000e+02   \n",
       "max    9.000000e+01  8.696000e+02  8.504000e+02  8.169000e+02  9.961000e+02   \n",
       "\n",
       "       NU_NOTA_REDACAO    mean_score  \n",
       "count     3.893671e+06  3.893671e+06  \n",
       "mean      5.160582e+02  5.321440e+02  \n",
       "std       1.843693e+02  6.829582e+01  \n",
       "min       0.000000e+00  0.000000e+00  \n",
       "25%       3.600000e+02  4.803500e+02  \n",
       "50%       5.200000e+02  5.239250e+02  \n",
       "75%       6.400000e+02  5.753750e+02  \n",
       "max       1.000000e+03  8.487750e+02  "
      ]
     },
     "execution_count": 32,
     "metadata": {},
     "output_type": "execute_result"
    }
   ],
   "source": [
    "df.describe()"
   ]
  },
  {
   "cell_type": "code",
   "execution_count": 33,
   "metadata": {},
   "outputs": [],
   "source": [
    "import matplotlib.pyplot as plt\n",
    "import statsmodels.api as sm"
   ]
  },
  {
   "cell_type": "code",
   "execution_count": 34,
   "metadata": {},
   "outputs": [
    {
     "data": {
      "text/plain": [
       "<matplotlib.axes._subplots.AxesSubplot at 0x20fa69b6588>"
      ]
     },
     "execution_count": 34,
     "metadata": {},
     "output_type": "execute_result"
    },
    {
     "data": {
      "image/png": "[encoded data removed]",
      "text/plain": [
       "<Figure size 432x288 with 1 Axes>"
      ]
     },
     "metadata": {
      "needs_background": "light"
     },
     "output_type": "display_data"
    }
   ],
   "source": [
    "%matplotlib inline\n",
    "sns.set_palette(\"husl\")\n",
    "sns.distplot(df['mean_score'])"
   ]
  },
  {
   "cell_type": "code",
   "execution_count": 35,
   "metadata": {},
   "outputs": [
    {
     "data": {
      "text/plain": [
       "school_type\n",
       "Exterior         593.112585\n",
       "Não respondeu    533.903737\n",
       "Privada          526.851752\n",
       "Pública          509.077120\n",
       "Name: mean_score, dtype: float64"
      ]
     },
     "execution_count": 35,
     "metadata": {},
     "output_type": "execute_result"
    }
   ],
   "source": [
    "school_type_mean = df.groupby('school_type')['mean_score'].mean()\n",
    "school_type_mean"
   ]
  },
  {
   "cell_type": "code",
   "execution_count": 36,
   "metadata": {},
   "outputs": [
    {
     "data": {
      "text/plain": [
       "Text(0, 0.5, 'Tipo de escola')"
      ]
     },
     "execution_count": 36,
     "metadata": {},
     "output_type": "execute_result"
    },
    {
     "data": {
      "image/png": "[encoded data removed]",
      "text/plain": [
       "<Figure size 432x288 with 1 Axes>"
      ]
     },
     "metadata": {
      "needs_background": "light"
     },
     "output_type": "display_data"
    }
   ],
   "source": [
    "school_type_mean.nsmallest(4).plot.barh('Média das notas por tipo de escola')\n",
    "plt.xlabel('Média notas')\n",
    "plt.ylabel('Tipo de escola')"
   ]
  },
  {
   "cell_type": "code",
   "execution_count": 37,
   "metadata": {},
   "outputs": [
    {
     "data": {
      "text/plain": [
       "family_income\n",
       "Até R$ 954,00                          498.026098\n",
       "De R$ 954,01 até R$ 1431,00            515.448495\n",
       "De R$ R$ 11.448,01 até R$ 14.310,00    618.057835\n",
       "De R$ R$ 14.310,01 até R$ 19.080,00    624.624857\n",
       "De R$ R$ 1431,01 até R$ 1908,00        531.202939\n",
       "De R$ R$ 1908,01 até R$ 2385,00        536.575423\n",
       "De R$ R$ 2385,01 até R$ 2862,00        550.247892\n",
       "De R$ R$ 2862,01 até R$ 3816,00        556.359024\n",
       "De R$ R$ 3816,01 até R$ 4770,00        569.866874\n",
       "De R$ R$ 4770,01 até R$ 5724,00        578.644676\n",
       "De R$ R$ 5724,01 até R$ 6678,00        588.125109\n",
       "De R$ R$ 6678,01 até R$ 7632,00        593.666054\n",
       "De R$ R$ 7632,01 até R$ 8586,00        601.065077\n",
       "De R$ R$ 8586,01 até R$ 9540,00        603.952882\n",
       "De R$ R$ 9540,01 até R$ 11.448,00      611.080918\n",
       "Mais de R$ 19.080,00                   633.381081\n",
       "Nenhuma renda                          493.267743\n",
       "Name: mean_score, dtype: float64"
      ]
     },
     "execution_count": 37,
     "metadata": {},
     "output_type": "execute_result"
    }
   ],
   "source": [
    "family_income_mean = df.groupby('family_income')['mean_score'].mean()\n",
    "family_income_mean"
   ]
  },
  {
   "cell_type": "code",
   "execution_count": 38,
   "metadata": {},
   "outputs": [
    {
     "data": {
      "text/plain": [
       "Text(0, 0.5, 'Renda familiar')"
      ]
     },
     "execution_count": 38,
     "metadata": {},
     "output_type": "execute_result"
    },
    {
     "data": {
      "image/png": "[encoded data removed]",
      "text/plain": [
       "<Figure size 432x288 with 1 Axes>"
      ]
     },
     "metadata": {
      "needs_background": "light"
     },
     "output_type": "display_data"
    }
   ],
   "source": [
    "family_income_mean.nsmallest(17).plot.barh('Média das notas por renda familiar')\n",
    "plt.xlabel('Média notas')\n",
    "plt.ylabel('Renda familiar')"
   ]
  },
  {
   "cell_type": "code",
   "execution_count": 39,
   "metadata": {},
   "outputs": [
    {
     "data": {
      "text/plain": [
       "father_schooling\n",
       "Completou a 4ªserie/5ºano mas não completou a 8ªserie/9ºano    520.022639\n",
       "Completou a 8ªsérie/9ºano mas não completou o ensino médio     528.145455\n",
       "Completou a faculdade mas não completou a pós                  585.133283\n",
       "Completou a pós-graduação                                      599.739594\n",
       "Completou o ensino médio mas não a faculdade                   544.333679\n",
       "Nunca estudou                                                  492.529258\n",
       "Não completou a 4ªserie/5ºano                                  507.741298\n",
       "Não sei                                                        514.907120\n",
       "Name: mean_score, dtype: float64"
      ]
     },
     "execution_count": 39,
     "metadata": {},
     "output_type": "execute_result"
    }
   ],
   "source": [
    "father_schooling_mean = df.groupby('father_schooling')['mean_score'].mean()\n",
    "father_schooling_mean"
   ]
  },
  {
   "cell_type": "code",
   "execution_count": 40,
   "metadata": {},
   "outputs": [
    {
     "data": {
      "text/plain": [
       "Text(0, 0.5, 'Escolaridade do pai')"
      ]
     },
     "execution_count": 40,
     "metadata": {},
     "output_type": "execute_result"
    },
    {
     "data": {
      "image/png": "[encoded data removed]",
      "text/plain": [
       "<Figure size 432x288 with 1 Axes>"
      ]
     },
     "metadata": {
      "needs_background": "light"
     },
     "output_type": "display_data"
    }
   ],
   "source": [
    "father_schooling_mean.nsmallest(8).plot.barh('Média das notas por escolaridade paterna')\n",
    "plt.xlabel('Média notas')\n",
    "plt.ylabel('Escolaridade do pai')"
   ]
  },
  {
   "cell_type": "code",
   "execution_count": 41,
   "metadata": {},
   "outputs": [
    {
     "data": {
      "text/plain": [
       "mother_schooling\n",
       "Completou a 4ªserie/5ºano mas não completou a 8ªserie/9ºano    514.899167\n",
       "Completou a 8ªsérie/9ºano mas não completou o ensino médio     521.350313\n",
       "Completou a faculdade mas não completou a pós                  573.290604\n",
       "Completou a pós-graduação                                      582.372673\n",
       "Completou o ensino médio mas não a faculdade                   537.266351\n",
       "Nunca estudou                                                  490.156854\n",
       "Não completou a 4ªserie/5ºano                                  504.452621\n",
       "Não sei                                                        505.072015\n",
       "Name: mean_score, dtype: float64"
      ]
     },
     "execution_count": 41,
     "metadata": {},
     "output_type": "execute_result"
    }
   ],
   "source": [
    "mother_schooling_mean = df.groupby('mother_schooling')['mean_score'].mean()\n",
    "mother_schooling_mean"
   ]
  },
  {
   "cell_type": "code",
   "execution_count": 42,
   "metadata": {},
   "outputs": [
    {
     "data": {
      "text/plain": [
       "Text(0, 0.5, 'Escolaridade da mãe')"
      ]
     },
     "execution_count": 42,
     "metadata": {},
     "output_type": "execute_result"
    },
    {
     "data": {
      "image/png": "[encoded data removed]",
      "text/plain": [
       "<Figure size 432x288 with 1 Axes>"
      ]
     },
     "metadata": {
      "needs_background": "light"
     },
     "output_type": "display_data"
    }
   ],
   "source": [
    "mother_schooling_mean.nsmallest(8).plot.barh('Média das notas por escolaridade materna')\n",
    "plt.xlabel('Média notas')\n",
    "plt.ylabel('Escolaridade da mãe')"
   ]
  },
  {
   "cell_type": "code",
   "execution_count": 43,
   "metadata": {
    "scrolled": false
   },
   "outputs": [
    {
     "data": {
      "text/html": [
       "<div>\n",
       "<style scoped>\n",
       "    .dataframe tbody tr th:only-of-type {\n",
       "        vertical-align: middle;\n",
       "    }\n",
       "\n",
       "    .dataframe tbody tr th {\n",
       "        vertical-align: top;\n",
       "    }\n",
       "\n",
       "    .dataframe thead th {\n",
       "        text-align: right;\n",
       "    }\n",
       "</style>\n",
       "<table border=\"1\" class=\"dataframe\">\n",
       "  <thead>\n",
       "    <tr style=\"text-align: right;\">\n",
       "      <th></th>\n",
       "      <th>NO_MUNICIPIO_RESIDENCIA</th>\n",
       "      <th>SG_UF_RESIDENCIA</th>\n",
       "      <th>NU_IDADE</th>\n",
       "      <th>TP_SEXO</th>\n",
       "      <th>NU_NOTA_CN</th>\n",
       "      <th>NU_NOTA_CH</th>\n",
       "      <th>NU_NOTA_LC</th>\n",
       "      <th>NU_NOTA_MT</th>\n",
       "      <th>NU_NOTA_REDACAO</th>\n",
       "      <th>father_schooling</th>\n",
       "      <th>mother_schooling</th>\n",
       "      <th>family_income</th>\n",
       "      <th>has_computer</th>\n",
       "      <th>has_internet</th>\n",
       "      <th>color/race</th>\n",
       "      <th>school_type</th>\n",
       "      <th>mean_score</th>\n",
       "    </tr>\n",
       "  </thead>\n",
       "  <tbody>\n",
       "    <tr>\n",
       "      <th>5365820</th>\n",
       "      <td>Brasília</td>\n",
       "      <td>DF</td>\n",
       "      <td>26</td>\n",
       "      <td>M</td>\n",
       "      <td>809.1</td>\n",
       "      <td>850.4</td>\n",
       "      <td>779.7</td>\n",
       "      <td>955.9</td>\n",
       "      <td>700.0</td>\n",
       "      <td>Não completou a 4ªserie/5ºano</td>\n",
       "      <td>Completou o ensino médio mas não a faculdade</td>\n",
       "      <td>De R$ 954,01 até R$ 1431,00</td>\n",
       "      <td>Sim, um</td>\n",
       "      <td>Sim</td>\n",
       "      <td>Parda</td>\n",
       "      <td>Não respondeu</td>\n",
       "      <td>848.775</td>\n",
       "    </tr>\n",
       "    <tr>\n",
       "      <th>1231303</th>\n",
       "      <td>Teresina</td>\n",
       "      <td>PI</td>\n",
       "      <td>17</td>\n",
       "      <td>M</td>\n",
       "      <td>869.6</td>\n",
       "      <td>796.2</td>\n",
       "      <td>692.5</td>\n",
       "      <td>994.4</td>\n",
       "      <td>860.0</td>\n",
       "      <td>Completou a pós-graduação</td>\n",
       "      <td>Completou a pós-graduação</td>\n",
       "      <td>De R$ R$ 8586,01 até R$ 9540,00</td>\n",
       "      <td>Sim, quatro ou mais</td>\n",
       "      <td>Sim</td>\n",
       "      <td>Parda</td>\n",
       "      <td>Exterior</td>\n",
       "      <td>838.175</td>\n",
       "    </tr>\n",
       "    <tr>\n",
       "      <th>2410529</th>\n",
       "      <td>Aracaju</td>\n",
       "      <td>SE</td>\n",
       "      <td>17</td>\n",
       "      <td>M</td>\n",
       "      <td>831.4</td>\n",
       "      <td>850.4</td>\n",
       "      <td>725.9</td>\n",
       "      <td>943.2</td>\n",
       "      <td>940.0</td>\n",
       "      <td>Completou a faculdade mas não completou a pós</td>\n",
       "      <td>Completou a faculdade mas não completou a pós</td>\n",
       "      <td>De R$ R$ 3816,01 até R$ 4770,00</td>\n",
       "      <td>Sim, um</td>\n",
       "      <td>Sim</td>\n",
       "      <td>Branca</td>\n",
       "      <td>Exterior</td>\n",
       "      <td>837.725</td>\n",
       "    </tr>\n",
       "    <tr>\n",
       "      <th>414829</th>\n",
       "      <td>Juiz de Fora</td>\n",
       "      <td>MG</td>\n",
       "      <td>18</td>\n",
       "      <td>M</td>\n",
       "      <td>855.2</td>\n",
       "      <td>776.8</td>\n",
       "      <td>715.5</td>\n",
       "      <td>990.7</td>\n",
       "      <td>900.0</td>\n",
       "      <td>Completou a faculdade mas não completou a pós</td>\n",
       "      <td>Completou a faculdade mas não completou a pós</td>\n",
       "      <td>De R$ R$ 14.310,01 até R$ 19.080,00</td>\n",
       "      <td>Sim, dois</td>\n",
       "      <td>Sim</td>\n",
       "      <td>Branca</td>\n",
       "      <td>Exterior</td>\n",
       "      <td>834.550</td>\n",
       "    </tr>\n",
       "    <tr>\n",
       "      <th>3204960</th>\n",
       "      <td>Natal</td>\n",
       "      <td>RN</td>\n",
       "      <td>17</td>\n",
       "      <td>M</td>\n",
       "      <td>839.1</td>\n",
       "      <td>825.8</td>\n",
       "      <td>705.4</td>\n",
       "      <td>964.8</td>\n",
       "      <td>920.0</td>\n",
       "      <td>Completou a pós-graduação</td>\n",
       "      <td>Completou a pós-graduação</td>\n",
       "      <td>Mais de R$ 19.080,00</td>\n",
       "      <td>Sim, quatro ou mais</td>\n",
       "      <td>Sim</td>\n",
       "      <td>Branca</td>\n",
       "      <td>Exterior</td>\n",
       "      <td>833.775</td>\n",
       "    </tr>\n",
       "    <tr>\n",
       "      <th>2285611</th>\n",
       "      <td>Rio de Janeiro</td>\n",
       "      <td>RJ</td>\n",
       "      <td>20</td>\n",
       "      <td>M</td>\n",
       "      <td>849.8</td>\n",
       "      <td>768.5</td>\n",
       "      <td>716.3</td>\n",
       "      <td>996.1</td>\n",
       "      <td>900.0</td>\n",
       "      <td>Completou a faculdade mas não completou a pós</td>\n",
       "      <td>Completou a pós-graduação</td>\n",
       "      <td>De R$ R$ 9540,01 até R$ 11.448,00</td>\n",
       "      <td>Sim, um</td>\n",
       "      <td>Sim</td>\n",
       "      <td>Não declarado</td>\n",
       "      <td>Não respondeu</td>\n",
       "      <td>832.675</td>\n",
       "    </tr>\n",
       "    <tr>\n",
       "      <th>2037194</th>\n",
       "      <td>Aracaju</td>\n",
       "      <td>SE</td>\n",
       "      <td>18</td>\n",
       "      <td>M</td>\n",
       "      <td>869.6</td>\n",
       "      <td>789.0</td>\n",
       "      <td>718.8</td>\n",
       "      <td>944.7</td>\n",
       "      <td>900.0</td>\n",
       "      <td>Completou a pós-graduação</td>\n",
       "      <td>Completou a pós-graduação</td>\n",
       "      <td>Mais de R$ 19.080,00</td>\n",
       "      <td>Sim, três</td>\n",
       "      <td>Sim</td>\n",
       "      <td>Não declarado</td>\n",
       "      <td>Exterior</td>\n",
       "      <td>830.525</td>\n",
       "    </tr>\n",
       "    <tr>\n",
       "      <th>1750154</th>\n",
       "      <td>Vitória</td>\n",
       "      <td>ES</td>\n",
       "      <td>17</td>\n",
       "      <td>M</td>\n",
       "      <td>869.6</td>\n",
       "      <td>798.2</td>\n",
       "      <td>695.7</td>\n",
       "      <td>953.0</td>\n",
       "      <td>940.0</td>\n",
       "      <td>Completou a pós-graduação</td>\n",
       "      <td>Completou o ensino médio mas não a faculdade</td>\n",
       "      <td>De R$ R$ 6678,01 até R$ 7632,00</td>\n",
       "      <td>Sim, três</td>\n",
       "      <td>Sim</td>\n",
       "      <td>Parda</td>\n",
       "      <td>Exterior</td>\n",
       "      <td>829.125</td>\n",
       "    </tr>\n",
       "    <tr>\n",
       "      <th>1464019</th>\n",
       "      <td>Brasília</td>\n",
       "      <td>DF</td>\n",
       "      <td>18</td>\n",
       "      <td>M</td>\n",
       "      <td>869.6</td>\n",
       "      <td>755.4</td>\n",
       "      <td>694.8</td>\n",
       "      <td>988.5</td>\n",
       "      <td>940.0</td>\n",
       "      <td>Completou a faculdade mas não completou a pós</td>\n",
       "      <td>Completou a faculdade mas não completou a pós</td>\n",
       "      <td>Mais de R$ 19.080,00</td>\n",
       "      <td>Sim, três</td>\n",
       "      <td>Sim</td>\n",
       "      <td>Branca</td>\n",
       "      <td>Exterior</td>\n",
       "      <td>827.075</td>\n",
       "    </tr>\n",
       "    <tr>\n",
       "      <th>2502341</th>\n",
       "      <td>São Paulo</td>\n",
       "      <td>SP</td>\n",
       "      <td>17</td>\n",
       "      <td>M</td>\n",
       "      <td>819.1</td>\n",
       "      <td>794.4</td>\n",
       "      <td>726.6</td>\n",
       "      <td>968.0</td>\n",
       "      <td>920.0</td>\n",
       "      <td>Completou a faculdade mas não completou a pós</td>\n",
       "      <td>Completou a faculdade mas não completou a pós</td>\n",
       "      <td>De R$ R$ 1908,01 até R$ 2385,00</td>\n",
       "      <td>Sim, quatro ou mais</td>\n",
       "      <td>Sim</td>\n",
       "      <td>Branca</td>\n",
       "      <td>Exterior</td>\n",
       "      <td>827.025</td>\n",
       "    </tr>\n",
       "  </tbody>\n",
       "</table>\n",
       "</div>"
      ],
      "text/plain": [
       "        NO_MUNICIPIO_RESIDENCIA SG_UF_RESIDENCIA  NU_IDADE TP_SEXO  \\\n",
       "5365820                Brasília               DF        26       M   \n",
       "1231303                Teresina               PI        17       M   \n",
       "2410529                 Aracaju               SE        17       M   \n",
       "414829             Juiz de Fora               MG        18       M   \n",
       "3204960                   Natal               RN        17       M   \n",
       "2285611          Rio de Janeiro               RJ        20       M   \n",
       "2037194                 Aracaju               SE        18       M   \n",
       "1750154                 Vitória               ES        17       M   \n",
       "1464019                Brasília               DF        18       M   \n",
       "2502341               São Paulo               SP        17       M   \n",
       "\n",
       "         NU_NOTA_CN  NU_NOTA_CH  NU_NOTA_LC  NU_NOTA_MT  NU_NOTA_REDACAO  \\\n",
       "5365820       809.1       850.4       779.7       955.9            700.0   \n",
       "1231303       869.6       796.2       692.5       994.4            860.0   \n",
       "2410529       831.4       850.4       725.9       943.2            940.0   \n",
       "414829        855.2       776.8       715.5       990.7            900.0   \n",
       "3204960       839.1       825.8       705.4       964.8            920.0   \n",
       "2285611       849.8       768.5       716.3       996.1            900.0   \n",
       "2037194       869.6       789.0       718.8       944.7            900.0   \n",
       "1750154       869.6       798.2       695.7       953.0            940.0   \n",
       "1464019       869.6       755.4       694.8       988.5            940.0   \n",
       "2502341       819.1       794.4       726.6       968.0            920.0   \n",
       "\n",
       "                                      father_schooling  \\\n",
       "5365820                  Não completou a 4ªserie/5ºano   \n",
       "1231303                      Completou a pós-graduação   \n",
       "2410529  Completou a faculdade mas não completou a pós   \n",
       "414829   Completou a faculdade mas não completou a pós   \n",
       "3204960                      Completou a pós-graduação   \n",
       "2285611  Completou a faculdade mas não completou a pós   \n",
       "2037194                      Completou a pós-graduação   \n",
       "1750154                      Completou a pós-graduação   \n",
       "1464019  Completou a faculdade mas não completou a pós   \n",
       "2502341  Completou a faculdade mas não completou a pós   \n",
       "\n",
       "                                      mother_schooling  \\\n",
       "5365820   Completou o ensino médio mas não a faculdade   \n",
       "1231303                      Completou a pós-graduação   \n",
       "2410529  Completou a faculdade mas não completou a pós   \n",
       "414829   Completou a faculdade mas não completou a pós   \n",
       "3204960                      Completou a pós-graduação   \n",
       "2285611                      Completou a pós-graduação   \n",
       "2037194                      Completou a pós-graduação   \n",
       "1750154   Completou o ensino médio mas não a faculdade   \n",
       "1464019  Completou a faculdade mas não completou a pós   \n",
       "2502341  Completou a faculdade mas não completou a pós   \n",
       "\n",
       "                               family_income         has_computer  \\\n",
       "5365820          De R$ 954,01 até R$ 1431,00              Sim, um   \n",
       "1231303      De R$ R$ 8586,01 até R$ 9540,00  Sim, quatro ou mais   \n",
       "2410529      De R$ R$ 3816,01 até R$ 4770,00              Sim, um   \n",
       "414829   De R$ R$ 14.310,01 até R$ 19.080,00            Sim, dois   \n",
       "3204960                 Mais de R$ 19.080,00  Sim, quatro ou mais   \n",
       "2285611    De R$ R$ 9540,01 até R$ 11.448,00              Sim, um   \n",
       "2037194                 Mais de R$ 19.080,00            Sim, três   \n",
       "1750154      De R$ R$ 6678,01 até R$ 7632,00            Sim, três   \n",
       "1464019                 Mais de R$ 19.080,00            Sim, três   \n",
       "2502341      De R$ R$ 1908,01 até R$ 2385,00  Sim, quatro ou mais   \n",
       "\n",
       "        has_internet     color/race    school_type  mean_score  \n",
       "5365820          Sim          Parda  Não respondeu     848.775  \n",
       "1231303          Sim          Parda       Exterior     838.175  \n",
       "2410529          Sim         Branca       Exterior     837.725  \n",
       "414829           Sim         Branca       Exterior     834.550  \n",
       "3204960          Sim         Branca       Exterior     833.775  \n",
       "2285611          Sim  Não declarado  Não respondeu     832.675  \n",
       "2037194          Sim  Não declarado       Exterior     830.525  \n",
       "1750154          Sim          Parda       Exterior     829.125  \n",
       "1464019          Sim         Branca       Exterior     827.075  \n",
       "2502341          Sim         Branca       Exterior     827.025  "
      ]
     },
     "execution_count": 43,
     "metadata": {},
     "output_type": "execute_result"
    }
   ],
   "source": [
    "df.nlargest(10, 'mean_score')"
   ]
  },
  {
   "cell_type": "code",
   "execution_count": 44,
   "metadata": {
    "scrolled": false
   },
   "outputs": [
    {
     "data": {
      "text/html": [
       "<div>\n",
       "<style scoped>\n",
       "    .dataframe tbody tr th:only-of-type {\n",
       "        vertical-align: middle;\n",
       "    }\n",
       "\n",
       "    .dataframe tbody tr th {\n",
       "        vertical-align: top;\n",
       "    }\n",
       "\n",
       "    .dataframe thead th {\n",
       "        text-align: right;\n",
       "    }\n",
       "</style>\n",
       "<table border=\"1\" class=\"dataframe\">\n",
       "  <thead>\n",
       "    <tr style=\"text-align: right;\">\n",
       "      <th></th>\n",
       "      <th>NO_MUNICIPIO_RESIDENCIA</th>\n",
       "      <th>SG_UF_RESIDENCIA</th>\n",
       "      <th>NU_IDADE</th>\n",
       "      <th>TP_SEXO</th>\n",
       "      <th>NU_NOTA_CN</th>\n",
       "      <th>NU_NOTA_CH</th>\n",
       "      <th>NU_NOTA_LC</th>\n",
       "      <th>NU_NOTA_MT</th>\n",
       "      <th>NU_NOTA_REDACAO</th>\n",
       "      <th>father_schooling</th>\n",
       "      <th>mother_schooling</th>\n",
       "      <th>family_income</th>\n",
       "      <th>has_computer</th>\n",
       "      <th>has_internet</th>\n",
       "      <th>color/race</th>\n",
       "      <th>school_type</th>\n",
       "      <th>mean_score</th>\n",
       "    </tr>\n",
       "  </thead>\n",
       "  <tbody>\n",
       "    <tr>\n",
       "      <th>157170</th>\n",
       "      <td>Aracaju</td>\n",
       "      <td>SE</td>\n",
       "      <td>23</td>\n",
       "      <td>M</td>\n",
       "      <td>0.0</td>\n",
       "      <td>0.0</td>\n",
       "      <td>0.0</td>\n",
       "      <td>0.0</td>\n",
       "      <td>240.0</td>\n",
       "      <td>Não completou a 4ªserie/5ºano</td>\n",
       "      <td>Completou a 4ªserie/5ºano mas não completou a ...</td>\n",
       "      <td>De R$ 954,01 até R$ 1431,00</td>\n",
       "      <td>Não</td>\n",
       "      <td>Sim</td>\n",
       "      <td>Parda</td>\n",
       "      <td>Não respondeu</td>\n",
       "      <td>0.0</td>\n",
       "    </tr>\n",
       "    <tr>\n",
       "      <th>348466</th>\n",
       "      <td>Bayeux</td>\n",
       "      <td>PB</td>\n",
       "      <td>28</td>\n",
       "      <td>M</td>\n",
       "      <td>0.0</td>\n",
       "      <td>0.0</td>\n",
       "      <td>0.0</td>\n",
       "      <td>0.0</td>\n",
       "      <td>340.0</td>\n",
       "      <td>Não completou a 4ªserie/5ºano</td>\n",
       "      <td>Completou o ensino médio mas não a faculdade</td>\n",
       "      <td>De R$ 954,01 até R$ 1431,00</td>\n",
       "      <td>Não</td>\n",
       "      <td>Sim</td>\n",
       "      <td>Parda</td>\n",
       "      <td>Não respondeu</td>\n",
       "      <td>0.0</td>\n",
       "    </tr>\n",
       "    <tr>\n",
       "      <th>574255</th>\n",
       "      <td>Paulista</td>\n",
       "      <td>PE</td>\n",
       "      <td>50</td>\n",
       "      <td>F</td>\n",
       "      <td>0.0</td>\n",
       "      <td>0.0</td>\n",
       "      <td>0.0</td>\n",
       "      <td>0.0</td>\n",
       "      <td>0.0</td>\n",
       "      <td>Nunca estudou</td>\n",
       "      <td>Completou o ensino médio mas não a faculdade</td>\n",
       "      <td>Nenhuma renda</td>\n",
       "      <td>Sim, um</td>\n",
       "      <td>Não</td>\n",
       "      <td>Parda</td>\n",
       "      <td>Não respondeu</td>\n",
       "      <td>0.0</td>\n",
       "    </tr>\n",
       "    <tr>\n",
       "      <th>910310</th>\n",
       "      <td>Contagem</td>\n",
       "      <td>MG</td>\n",
       "      <td>16</td>\n",
       "      <td>F</td>\n",
       "      <td>0.0</td>\n",
       "      <td>0.0</td>\n",
       "      <td>0.0</td>\n",
       "      <td>0.0</td>\n",
       "      <td>0.0</td>\n",
       "      <td>Completou a 4ªserie/5ºano mas não completou a ...</td>\n",
       "      <td>Completou a 8ªsérie/9ºano mas não completou o ...</td>\n",
       "      <td>De R$ 954,01 até R$ 1431,00</td>\n",
       "      <td>Não</td>\n",
       "      <td>Sim</td>\n",
       "      <td>Parda</td>\n",
       "      <td>Não respondeu</td>\n",
       "      <td>0.0</td>\n",
       "    </tr>\n",
       "    <tr>\n",
       "      <th>1011422</th>\n",
       "      <td>São Luís</td>\n",
       "      <td>MA</td>\n",
       "      <td>39</td>\n",
       "      <td>M</td>\n",
       "      <td>0.0</td>\n",
       "      <td>0.0</td>\n",
       "      <td>0.0</td>\n",
       "      <td>0.0</td>\n",
       "      <td>260.0</td>\n",
       "      <td>Nunca estudou</td>\n",
       "      <td>Nunca estudou</td>\n",
       "      <td>De R$ 954,01 até R$ 1431,00</td>\n",
       "      <td>Não</td>\n",
       "      <td>Sim</td>\n",
       "      <td>Preta</td>\n",
       "      <td>Não respondeu</td>\n",
       "      <td>0.0</td>\n",
       "    </tr>\n",
       "    <tr>\n",
       "      <th>1075911</th>\n",
       "      <td>Rio Bom</td>\n",
       "      <td>PR</td>\n",
       "      <td>21</td>\n",
       "      <td>M</td>\n",
       "      <td>0.0</td>\n",
       "      <td>0.0</td>\n",
       "      <td>0.0</td>\n",
       "      <td>0.0</td>\n",
       "      <td>320.0</td>\n",
       "      <td>Completou a 4ªserie/5ºano mas não completou a ...</td>\n",
       "      <td>Completou a 8ªsérie/9ºano mas não completou o ...</td>\n",
       "      <td>De R$ 954,01 até R$ 1431,00</td>\n",
       "      <td>Não</td>\n",
       "      <td>Não</td>\n",
       "      <td>Parda</td>\n",
       "      <td>Não respondeu</td>\n",
       "      <td>0.0</td>\n",
       "    </tr>\n",
       "    <tr>\n",
       "      <th>1141773</th>\n",
       "      <td>Juazeiro</td>\n",
       "      <td>BA</td>\n",
       "      <td>41</td>\n",
       "      <td>M</td>\n",
       "      <td>0.0</td>\n",
       "      <td>0.0</td>\n",
       "      <td>0.0</td>\n",
       "      <td>0.0</td>\n",
       "      <td>0.0</td>\n",
       "      <td>Completou a faculdade mas não completou a pós</td>\n",
       "      <td>Completou o ensino médio mas não a faculdade</td>\n",
       "      <td>Nenhuma renda</td>\n",
       "      <td>Não</td>\n",
       "      <td>Não</td>\n",
       "      <td>Parda</td>\n",
       "      <td>Não respondeu</td>\n",
       "      <td>0.0</td>\n",
       "    </tr>\n",
       "    <tr>\n",
       "      <th>1261378</th>\n",
       "      <td>Messias Targino</td>\n",
       "      <td>RN</td>\n",
       "      <td>45</td>\n",
       "      <td>M</td>\n",
       "      <td>0.0</td>\n",
       "      <td>0.0</td>\n",
       "      <td>0.0</td>\n",
       "      <td>0.0</td>\n",
       "      <td>0.0</td>\n",
       "      <td>Não sei</td>\n",
       "      <td>Não sei</td>\n",
       "      <td>Até R$ 954,00</td>\n",
       "      <td>Não</td>\n",
       "      <td>Não</td>\n",
       "      <td>Parda</td>\n",
       "      <td>Não respondeu</td>\n",
       "      <td>0.0</td>\n",
       "    </tr>\n",
       "    <tr>\n",
       "      <th>1311126</th>\n",
       "      <td>Lorena</td>\n",
       "      <td>SP</td>\n",
       "      <td>40</td>\n",
       "      <td>F</td>\n",
       "      <td>0.0</td>\n",
       "      <td>0.0</td>\n",
       "      <td>0.0</td>\n",
       "      <td>0.0</td>\n",
       "      <td>0.0</td>\n",
       "      <td>Não completou a 4ªserie/5ºano</td>\n",
       "      <td>Não completou a 4ªserie/5ºano</td>\n",
       "      <td>Até R$ 954,00</td>\n",
       "      <td>Sim, dois</td>\n",
       "      <td>Não</td>\n",
       "      <td>Branca</td>\n",
       "      <td>Não respondeu</td>\n",
       "      <td>0.0</td>\n",
       "    </tr>\n",
       "    <tr>\n",
       "      <th>1403157</th>\n",
       "      <td>Parnamirim</td>\n",
       "      <td>RN</td>\n",
       "      <td>31</td>\n",
       "      <td>F</td>\n",
       "      <td>0.0</td>\n",
       "      <td>0.0</td>\n",
       "      <td>0.0</td>\n",
       "      <td>0.0</td>\n",
       "      <td>0.0</td>\n",
       "      <td>Não completou a 4ªserie/5ºano</td>\n",
       "      <td>Não sei</td>\n",
       "      <td>Até R$ 954,00</td>\n",
       "      <td>Não</td>\n",
       "      <td>Não</td>\n",
       "      <td>Parda</td>\n",
       "      <td>Não respondeu</td>\n",
       "      <td>0.0</td>\n",
       "    </tr>\n",
       "  </tbody>\n",
       "</table>\n",
       "</div>"
      ],
      "text/plain": [
       "        NO_MUNICIPIO_RESIDENCIA SG_UF_RESIDENCIA  NU_IDADE TP_SEXO  \\\n",
       "157170                  Aracaju               SE        23       M   \n",
       "348466                   Bayeux               PB        28       M   \n",
       "574255                 Paulista               PE        50       F   \n",
       "910310                 Contagem               MG        16       F   \n",
       "1011422                São Luís               MA        39       M   \n",
       "1075911                 Rio Bom               PR        21       M   \n",
       "1141773                Juazeiro               BA        41       M   \n",
       "1261378         Messias Targino               RN        45       M   \n",
       "1311126                  Lorena               SP        40       F   \n",
       "1403157              Parnamirim               RN        31       F   \n",
       "\n",
       "         NU_NOTA_CN  NU_NOTA_CH  NU_NOTA_LC  NU_NOTA_MT  NU_NOTA_REDACAO  \\\n",
       "157170          0.0         0.0         0.0         0.0            240.0   \n",
       "348466          0.0         0.0         0.0         0.0            340.0   \n",
       "574255          0.0         0.0         0.0         0.0              0.0   \n",
       "910310          0.0         0.0         0.0         0.0              0.0   \n",
       "1011422         0.0         0.0         0.0         0.0            260.0   \n",
       "1075911         0.0         0.0         0.0         0.0            320.0   \n",
       "1141773         0.0         0.0         0.0         0.0              0.0   \n",
       "1261378         0.0         0.0         0.0         0.0              0.0   \n",
       "1311126         0.0         0.0         0.0         0.0              0.0   \n",
       "1403157         0.0         0.0         0.0         0.0              0.0   \n",
       "\n",
       "                                          father_schooling  \\\n",
       "157170                       Não completou a 4ªserie/5ºano   \n",
       "348466                       Não completou a 4ªserie/5ºano   \n",
       "574255                                       Nunca estudou   \n",
       "910310   Completou a 4ªserie/5ºano mas não completou a ...   \n",
       "1011422                                      Nunca estudou   \n",
       "1075911  Completou a 4ªserie/5ºano mas não completou a ...   \n",
       "1141773      Completou a faculdade mas não completou a pós   \n",
       "1261378                                            Não sei   \n",
       "1311126                      Não completou a 4ªserie/5ºano   \n",
       "1403157                      Não completou a 4ªserie/5ºano   \n",
       "\n",
       "                                          mother_schooling  \\\n",
       "157170   Completou a 4ªserie/5ºano mas não completou a ...   \n",
       "348466        Completou o ensino médio mas não a faculdade   \n",
       "574255        Completou o ensino médio mas não a faculdade   \n",
       "910310   Completou a 8ªsérie/9ºano mas não completou o ...   \n",
       "1011422                                      Nunca estudou   \n",
       "1075911  Completou a 8ªsérie/9ºano mas não completou o ...   \n",
       "1141773       Completou o ensino médio mas não a faculdade   \n",
       "1261378                                            Não sei   \n",
       "1311126                      Não completou a 4ªserie/5ºano   \n",
       "1403157                                            Não sei   \n",
       "\n",
       "                       family_income has_computer has_internet color/race  \\\n",
       "157170   De R$ 954,01 até R$ 1431,00          Não          Sim      Parda   \n",
       "348466   De R$ 954,01 até R$ 1431,00          Não          Sim      Parda   \n",
       "574255                 Nenhuma renda      Sim, um          Não      Parda   \n",
       "910310   De R$ 954,01 até R$ 1431,00          Não          Sim      Parda   \n",
       "1011422  De R$ 954,01 até R$ 1431,00          Não          Sim      Preta   \n",
       "1075911  De R$ 954,01 até R$ 1431,00          Não          Não      Parda   \n",
       "1141773                Nenhuma renda          Não          Não      Parda   \n",
       "1261378                Até R$ 954,00          Não          Não      Parda   \n",
       "1311126                Até R$ 954,00    Sim, dois          Não     Branca   \n",
       "1403157                Até R$ 954,00          Não          Não      Parda   \n",
       "\n",
       "           school_type  mean_score  \n",
       "157170   Não respondeu         0.0  \n",
       "348466   Não respondeu         0.0  \n",
       "574255   Não respondeu         0.0  \n",
       "910310   Não respondeu         0.0  \n",
       "1011422  Não respondeu         0.0  \n",
       "1075911  Não respondeu         0.0  \n",
       "1141773  Não respondeu         0.0  \n",
       "1261378  Não respondeu         0.0  \n",
       "1311126  Não respondeu         0.0  \n",
       "1403157  Não respondeu         0.0  "
      ]
     },
     "execution_count": 44,
     "metadata": {},
     "output_type": "execute_result"
    }
   ],
   "source": [
    "df.nsmallest(10, 'mean_score')"
   ]
  },
  {
   "cell_type": "code",
   "execution_count": 45,
   "metadata": {},
   "outputs": [
    {
     "data": {
      "text/plain": [
       "(840352, 17)"
      ]
     },
     "execution_count": 45,
     "metadata": {},
     "output_type": "execute_result"
    }
   ],
   "source": [
    "df_public = df.loc[df['school_type'] == 'Pública']\n",
    "df_public.shape"
   ]
  },
  {
   "cell_type": "code",
   "execution_count": 46,
   "metadata": {},
   "outputs": [
    {
     "data": {
      "text/plain": [
       "(9762, 17)"
      ]
     },
     "execution_count": 46,
     "metadata": {},
     "output_type": "execute_result"
    }
   ],
   "source": [
    "df_private = df.loc[df['school_type'] == 'Privada']\n",
    "df_private.shape"
   ]
  },
  {
   "cell_type": "code",
   "execution_count": 47,
   "metadata": {
    "scrolled": true
   },
   "outputs": [
    {
     "data": {
      "text/plain": [
       "17.774631298998827"
      ]
     },
     "execution_count": 47,
     "metadata": {},
     "output_type": "execute_result"
    }
   ],
   "source": [
    "mean_diff = abs(df_public['mean_score'].mean() - df_private['mean_score'].mean())\n",
    "mean_diff"
   ]
  },
  {
   "cell_type": "code",
   "execution_count": 48,
   "metadata": {},
   "outputs": [],
   "source": [
    "import statsmodels.api as sm"
   ]
  },
  {
   "cell_type": "code",
   "execution_count": 72,
   "metadata": {},
   "outputs": [],
   "source": [
    "n1 = df_public['mean_score']\n",
    "n2 = df_private['mean_score']\n",
    "\n",
    "result = sm.stats.ttest_ind(x1=n1, x2=n2, value=0, alternative='two-sided', weights=(None, None), usevar='pooled')"
   ]
  },
  {
   "cell_type": "code",
   "execution_count": 73,
   "metadata": {},
   "outputs": [],
   "source": [
    "def hipo_result(result):\n",
    "    if result <= 0.5:\n",
    "        print('Rejeita-se a hipótese nula')\n",
    "    else:\n",
    "        print('Falha em rejeitar a hipótese nula')"
   ]
  },
  {
   "cell_type": "code",
   "execution_count": 74,
   "metadata": {},
   "outputs": [
    {
     "name": "stdout",
     "output_type": "stream",
     "text": [
      "Rejeita-se a hipótese nula\n"
     ]
    }
   ],
   "source": [
    "hipo_result(result[1])"
   ]
  },
  {
   "cell_type": "code",
   "execution_count": 75,
   "metadata": {},
   "outputs": [
    {
     "data": {
      "text/plain": [
       "(-30.956984921007273, 2.6816306352664843e-210, 850112.0)"
      ]
     },
     "execution_count": 75,
     "metadata": {},
     "output_type": "execute_result"
    }
   ],
   "source": [
    "result"
   ]
  },
  {
   "cell_type": "code",
   "execution_count": 55,
   "metadata": {},
   "outputs": [
    {
     "data": {
      "text/plain": [
       "<matplotlib.axes._subplots.AxesSubplot at 0x20fa76754c8>"
      ]
     },
     "execution_count": 55,
     "metadata": {},
     "output_type": "execute_result"
    },
    {
     "data": {
      "image/png": "[encoded data removed]",
      "text/plain": [
       "<Figure size 432x288 with 1 Axes>"
      ]
     },
     "metadata": {
      "needs_background": "light"
     },
     "output_type": "display_data"
    }
   ],
   "source": [
    "sns.boxplot(x=df['school_type'], y=df['mean_score'], data=df)"
   ]
  },
  {
   "cell_type": "code",
   "execution_count": 57,
   "metadata": {},
   "outputs": [
    {
     "data": {
      "text/html": [
       "<div>\n",
       "<style scoped>\n",
       "    .dataframe tbody tr th:only-of-type {\n",
       "        vertical-align: middle;\n",
       "    }\n",
       "\n",
       "    .dataframe tbody tr th {\n",
       "        vertical-align: top;\n",
       "    }\n",
       "\n",
       "    .dataframe thead th {\n",
       "        text-align: right;\n",
       "    }\n",
       "</style>\n",
       "<table border=\"1\" class=\"dataframe\">\n",
       "  <thead>\n",
       "    <tr style=\"text-align: right;\">\n",
       "      <th></th>\n",
       "      <th>NO_MUNICIPIO_RESIDENCIA</th>\n",
       "      <th>SG_UF_RESIDENCIA</th>\n",
       "      <th>NU_IDADE</th>\n",
       "      <th>TP_SEXO</th>\n",
       "      <th>NU_NOTA_CN</th>\n",
       "      <th>NU_NOTA_CH</th>\n",
       "      <th>NU_NOTA_LC</th>\n",
       "      <th>NU_NOTA_MT</th>\n",
       "      <th>NU_NOTA_REDACAO</th>\n",
       "      <th>father_schooling</th>\n",
       "      <th>mother_schooling</th>\n",
       "      <th>family_income</th>\n",
       "      <th>has_computer</th>\n",
       "      <th>has_internet</th>\n",
       "      <th>color/race</th>\n",
       "      <th>school_type</th>\n",
       "      <th>mean_score</th>\n",
       "    </tr>\n",
       "  </thead>\n",
       "  <tbody>\n",
       "    <tr>\n",
       "      <th>1</th>\n",
       "      <td>São João dos Patos</td>\n",
       "      <td>MA</td>\n",
       "      <td>23</td>\n",
       "      <td>F</td>\n",
       "      <td>521.0</td>\n",
       "      <td>568.7</td>\n",
       "      <td>513.1</td>\n",
       "      <td>480.3</td>\n",
       "      <td>280.0</td>\n",
       "      <td>Não completou a 4ªserie/5ºano</td>\n",
       "      <td>Não completou a 4ªserie/5ºano</td>\n",
       "      <td>Até R$ 954,00</td>\n",
       "      <td>Não</td>\n",
       "      <td>Não</td>\n",
       "      <td>Parda</td>\n",
       "      <td>Não respondeu</td>\n",
       "      <td>520.775</td>\n",
       "    </tr>\n",
       "    <tr>\n",
       "      <th>5</th>\n",
       "      <td>João Pessoa</td>\n",
       "      <td>PB</td>\n",
       "      <td>23</td>\n",
       "      <td>F</td>\n",
       "      <td>461.8</td>\n",
       "      <td>564.0</td>\n",
       "      <td>466.8</td>\n",
       "      <td>538.8</td>\n",
       "      <td>580.0</td>\n",
       "      <td>Completou a 4ªserie/5ºano mas não completou a ...</td>\n",
       "      <td>Completou a 8ªsérie/9ºano mas não completou o ...</td>\n",
       "      <td>Até R$ 954,00</td>\n",
       "      <td>Sim, um</td>\n",
       "      <td>Sim</td>\n",
       "      <td>Branca</td>\n",
       "      <td>Não respondeu</td>\n",
       "      <td>507.850</td>\n",
       "    </tr>\n",
       "    <tr>\n",
       "      <th>8</th>\n",
       "      <td>Fortaleza</td>\n",
       "      <td>CE</td>\n",
       "      <td>19</td>\n",
       "      <td>M</td>\n",
       "      <td>411.8</td>\n",
       "      <td>429.8</td>\n",
       "      <td>445.2</td>\n",
       "      <td>459.0</td>\n",
       "      <td>340.0</td>\n",
       "      <td>Completou a 8ªsérie/9ºano mas não completou o ...</td>\n",
       "      <td>Completou a 8ªsérie/9ºano mas não completou o ...</td>\n",
       "      <td>De R$ 954,01 até R$ 1431,00</td>\n",
       "      <td>Não</td>\n",
       "      <td>Não</td>\n",
       "      <td>Parda</td>\n",
       "      <td>Pública</td>\n",
       "      <td>436.450</td>\n",
       "    </tr>\n",
       "    <tr>\n",
       "      <th>9</th>\n",
       "      <td>Cuiabá</td>\n",
       "      <td>MT</td>\n",
       "      <td>25</td>\n",
       "      <td>F</td>\n",
       "      <td>469.4</td>\n",
       "      <td>650.2</td>\n",
       "      <td>606.6</td>\n",
       "      <td>525.4</td>\n",
       "      <td>740.0</td>\n",
       "      <td>Completou a 4ªserie/5ºano mas não completou a ...</td>\n",
       "      <td>Completou a 4ªserie/5ºano mas não completou a ...</td>\n",
       "      <td>De R$ 954,01 até R$ 1431,00</td>\n",
       "      <td>Não</td>\n",
       "      <td>Não</td>\n",
       "      <td>Parda</td>\n",
       "      <td>Não respondeu</td>\n",
       "      <td>562.900</td>\n",
       "    </tr>\n",
       "    <tr>\n",
       "      <th>12</th>\n",
       "      <td>Gurupi</td>\n",
       "      <td>TO</td>\n",
       "      <td>18</td>\n",
       "      <td>F</td>\n",
       "      <td>467.4</td>\n",
       "      <td>640.5</td>\n",
       "      <td>516.7</td>\n",
       "      <td>642.3</td>\n",
       "      <td>640.0</td>\n",
       "      <td>Completou o ensino médio mas não a faculdade</td>\n",
       "      <td>Completou o ensino médio mas não a faculdade</td>\n",
       "      <td>Até R$ 954,00</td>\n",
       "      <td>Não</td>\n",
       "      <td>Não</td>\n",
       "      <td>Preta</td>\n",
       "      <td>Não respondeu</td>\n",
       "      <td>566.725</td>\n",
       "    </tr>\n",
       "  </tbody>\n",
       "</table>\n",
       "</div>"
      ],
      "text/plain": [
       "   NO_MUNICIPIO_RESIDENCIA SG_UF_RESIDENCIA  NU_IDADE TP_SEXO  NU_NOTA_CN  \\\n",
       "1       São João dos Patos               MA        23       F       521.0   \n",
       "5              João Pessoa               PB        23       F       461.8   \n",
       "8                Fortaleza               CE        19       M       411.8   \n",
       "9                   Cuiabá               MT        25       F       469.4   \n",
       "12                  Gurupi               TO        18       F       467.4   \n",
       "\n",
       "    NU_NOTA_CH  NU_NOTA_LC  NU_NOTA_MT  NU_NOTA_REDACAO  \\\n",
       "1        568.7       513.1       480.3            280.0   \n",
       "5        564.0       466.8       538.8            580.0   \n",
       "8        429.8       445.2       459.0            340.0   \n",
       "9        650.2       606.6       525.4            740.0   \n",
       "12       640.5       516.7       642.3            640.0   \n",
       "\n",
       "                                     father_schooling  \\\n",
       "1                       Não completou a 4ªserie/5ºano   \n",
       "5   Completou a 4ªserie/5ºano mas não completou a ...   \n",
       "8   Completou a 8ªsérie/9ºano mas não completou o ...   \n",
       "9   Completou a 4ªserie/5ºano mas não completou a ...   \n",
       "12       Completou o ensino médio mas não a faculdade   \n",
       "\n",
       "                                     mother_schooling  \\\n",
       "1                       Não completou a 4ªserie/5ºano   \n",
       "5   Completou a 8ªsérie/9ºano mas não completou o ...   \n",
       "8   Completou a 8ªsérie/9ºano mas não completou o ...   \n",
       "9   Completou a 4ªserie/5ºano mas não completou a ...   \n",
       "12       Completou o ensino médio mas não a faculdade   \n",
       "\n",
       "                  family_income has_computer has_internet color/race  \\\n",
       "1                 Até R$ 954,00          Não          Não      Parda   \n",
       "5                 Até R$ 954,00      Sim, um          Sim     Branca   \n",
       "8   De R$ 954,01 até R$ 1431,00          Não          Não      Parda   \n",
       "9   De R$ 954,01 até R$ 1431,00          Não          Não      Parda   \n",
       "12                Até R$ 954,00          Não          Não      Preta   \n",
       "\n",
       "      school_type  mean_score  \n",
       "1   Não respondeu     520.775  \n",
       "5   Não respondeu     507.850  \n",
       "8         Pública     436.450  \n",
       "9   Não respondeu     562.900  \n",
       "12  Não respondeu     566.725  "
      ]
     },
     "execution_count": 57,
     "metadata": {},
     "output_type": "execute_result"
    }
   ],
   "source": [
    "df_low_income = df.loc[ (df['family_income'] == 'Nenhuma renda') | (df['family_income'] == 'Até R$ 954,00') | \n",
    "                        (df['family_income'] == 'De R$ 954,01 até R$ 1431,00') | \n",
    "                        (df['family_income'] == 'De R$ R$ 1431,01 até R$ 1908,00') | \n",
    "                        (df['family_income'] == 'De R$ R$ 1908,01 até R$ 2385,00') | \n",
    "                        (df['family_income'] == 'De R$ R$ 2385,01 até R$ 2862,00') ]\n",
    "df_low_income.head()"
   ]
  },
  {
   "cell_type": "code",
   "execution_count": 59,
   "metadata": {},
   "outputs": [
    {
     "data": {
      "text/plain": [
       "(2924003, 17)"
      ]
     },
     "execution_count": 59,
     "metadata": {},
     "output_type": "execute_result"
    }
   ],
   "source": [
    "df_low_income.shape"
   ]
  },
  {
   "cell_type": "code",
   "execution_count": 60,
   "metadata": {},
   "outputs": [
    {
     "data": {
      "text/html": [
       "<div>\n",
       "<style scoped>\n",
       "    .dataframe tbody tr th:only-of-type {\n",
       "        vertical-align: middle;\n",
       "    }\n",
       "\n",
       "    .dataframe tbody tr th {\n",
       "        vertical-align: top;\n",
       "    }\n",
       "\n",
       "    .dataframe thead th {\n",
       "        text-align: right;\n",
       "    }\n",
       "</style>\n",
       "<table border=\"1\" class=\"dataframe\">\n",
       "  <thead>\n",
       "    <tr style=\"text-align: right;\">\n",
       "      <th></th>\n",
       "      <th>NO_MUNICIPIO_RESIDENCIA</th>\n",
       "      <th>SG_UF_RESIDENCIA</th>\n",
       "      <th>NU_IDADE</th>\n",
       "      <th>TP_SEXO</th>\n",
       "      <th>NU_NOTA_CN</th>\n",
       "      <th>NU_NOTA_CH</th>\n",
       "      <th>NU_NOTA_LC</th>\n",
       "      <th>NU_NOTA_MT</th>\n",
       "      <th>NU_NOTA_REDACAO</th>\n",
       "      <th>father_schooling</th>\n",
       "      <th>mother_schooling</th>\n",
       "      <th>family_income</th>\n",
       "      <th>has_computer</th>\n",
       "      <th>has_internet</th>\n",
       "      <th>color/race</th>\n",
       "      <th>school_type</th>\n",
       "      <th>mean_score</th>\n",
       "    </tr>\n",
       "  </thead>\n",
       "  <tbody>\n",
       "    <tr>\n",
       "      <th>7</th>\n",
       "      <td>Parnaíba</td>\n",
       "      <td>PI</td>\n",
       "      <td>39</td>\n",
       "      <td>M</td>\n",
       "      <td>499.3</td>\n",
       "      <td>663.2</td>\n",
       "      <td>605.2</td>\n",
       "      <td>733.8</td>\n",
       "      <td>680.0</td>\n",
       "      <td>Nunca estudou</td>\n",
       "      <td>Completou o ensino médio mas não a faculdade</td>\n",
       "      <td>De R$ R$ 3816,01 até R$ 4770,00</td>\n",
       "      <td>Sim, um</td>\n",
       "      <td>Sim</td>\n",
       "      <td>Parda</td>\n",
       "      <td>Não respondeu</td>\n",
       "      <td>625.375</td>\n",
       "    </tr>\n",
       "    <tr>\n",
       "      <th>28</th>\n",
       "      <td>Getúlio Vargas</td>\n",
       "      <td>RS</td>\n",
       "      <td>24</td>\n",
       "      <td>F</td>\n",
       "      <td>514.7</td>\n",
       "      <td>576.6</td>\n",
       "      <td>512.2</td>\n",
       "      <td>500.7</td>\n",
       "      <td>540.0</td>\n",
       "      <td>Completou a 4ªserie/5ºano mas não completou a ...</td>\n",
       "      <td>Completou a 8ªsérie/9ºano mas não completou o ...</td>\n",
       "      <td>De R$ R$ 3816,01 até R$ 4770,00</td>\n",
       "      <td>Sim, dois</td>\n",
       "      <td>Sim</td>\n",
       "      <td>Branca</td>\n",
       "      <td>Não respondeu</td>\n",
       "      <td>526.050</td>\n",
       "    </tr>\n",
       "    <tr>\n",
       "      <th>31</th>\n",
       "      <td>Guarulhos</td>\n",
       "      <td>SP</td>\n",
       "      <td>16</td>\n",
       "      <td>F</td>\n",
       "      <td>433.9</td>\n",
       "      <td>618.2</td>\n",
       "      <td>635.2</td>\n",
       "      <td>432.3</td>\n",
       "      <td>500.0</td>\n",
       "      <td>Completou a 4ªserie/5ºano mas não completou a ...</td>\n",
       "      <td>Completou a 4ªserie/5ºano mas não completou a ...</td>\n",
       "      <td>De R$ R$ 3816,01 até R$ 4770,00</td>\n",
       "      <td>Sim, um</td>\n",
       "      <td>Sim</td>\n",
       "      <td>Branca</td>\n",
       "      <td>Não respondeu</td>\n",
       "      <td>529.900</td>\n",
       "    </tr>\n",
       "    <tr>\n",
       "      <th>55</th>\n",
       "      <td>Bauru</td>\n",
       "      <td>SP</td>\n",
       "      <td>21</td>\n",
       "      <td>M</td>\n",
       "      <td>484.6</td>\n",
       "      <td>636.0</td>\n",
       "      <td>565.5</td>\n",
       "      <td>603.9</td>\n",
       "      <td>680.0</td>\n",
       "      <td>Completou a pós-graduação</td>\n",
       "      <td>Completou a 8ªsérie/9ºano mas não completou o ...</td>\n",
       "      <td>De R$ R$ 2862,01 até R$ 3816,00</td>\n",
       "      <td>Sim, um</td>\n",
       "      <td>Sim</td>\n",
       "      <td>Branca</td>\n",
       "      <td>Não respondeu</td>\n",
       "      <td>572.500</td>\n",
       "    </tr>\n",
       "    <tr>\n",
       "      <th>78</th>\n",
       "      <td>São Paulo</td>\n",
       "      <td>SP</td>\n",
       "      <td>39</td>\n",
       "      <td>F</td>\n",
       "      <td>423.4</td>\n",
       "      <td>436.4</td>\n",
       "      <td>409.7</td>\n",
       "      <td>525.9</td>\n",
       "      <td>780.0</td>\n",
       "      <td>Completou a 4ªserie/5ºano mas não completou a ...</td>\n",
       "      <td>Não completou a 4ªserie/5ºano</td>\n",
       "      <td>De R$ R$ 5724,01 até R$ 6678,00</td>\n",
       "      <td>Sim, dois</td>\n",
       "      <td>Sim</td>\n",
       "      <td>Parda</td>\n",
       "      <td>Não respondeu</td>\n",
       "      <td>448.850</td>\n",
       "    </tr>\n",
       "  </tbody>\n",
       "</table>\n",
       "</div>"
      ],
      "text/plain": [
       "   NO_MUNICIPIO_RESIDENCIA SG_UF_RESIDENCIA  NU_IDADE TP_SEXO  NU_NOTA_CN  \\\n",
       "7                 Parnaíba               PI        39       M       499.3   \n",
       "28          Getúlio Vargas               RS        24       F       514.7   \n",
       "31               Guarulhos               SP        16       F       433.9   \n",
       "55                   Bauru               SP        21       M       484.6   \n",
       "78               São Paulo               SP        39       F       423.4   \n",
       "\n",
       "    NU_NOTA_CH  NU_NOTA_LC  NU_NOTA_MT  NU_NOTA_REDACAO  \\\n",
       "7        663.2       605.2       733.8            680.0   \n",
       "28       576.6       512.2       500.7            540.0   \n",
       "31       618.2       635.2       432.3            500.0   \n",
       "55       636.0       565.5       603.9            680.0   \n",
       "78       436.4       409.7       525.9            780.0   \n",
       "\n",
       "                                     father_schooling  \\\n",
       "7                                       Nunca estudou   \n",
       "28  Completou a 4ªserie/5ºano mas não completou a ...   \n",
       "31  Completou a 4ªserie/5ºano mas não completou a ...   \n",
       "55                          Completou a pós-graduação   \n",
       "78  Completou a 4ªserie/5ºano mas não completou a ...   \n",
       "\n",
       "                                     mother_schooling  \\\n",
       "7        Completou o ensino médio mas não a faculdade   \n",
       "28  Completou a 8ªsérie/9ºano mas não completou o ...   \n",
       "31  Completou a 4ªserie/5ºano mas não completou a ...   \n",
       "55  Completou a 8ªsérie/9ºano mas não completou o ...   \n",
       "78                      Não completou a 4ªserie/5ºano   \n",
       "\n",
       "                      family_income has_computer has_internet color/race  \\\n",
       "7   De R$ R$ 3816,01 até R$ 4770,00      Sim, um          Sim      Parda   \n",
       "28  De R$ R$ 3816,01 até R$ 4770,00    Sim, dois          Sim     Branca   \n",
       "31  De R$ R$ 3816,01 até R$ 4770,00      Sim, um          Sim     Branca   \n",
       "55  De R$ R$ 2862,01 até R$ 3816,00      Sim, um          Sim     Branca   \n",
       "78  De R$ R$ 5724,01 até R$ 6678,00    Sim, dois          Sim      Parda   \n",
       "\n",
       "      school_type  mean_score  \n",
       "7   Não respondeu     625.375  \n",
       "28  Não respondeu     526.050  \n",
       "31  Não respondeu     529.900  \n",
       "55  Não respondeu     572.500  \n",
       "78  Não respondeu     448.850  "
      ]
     },
     "execution_count": 60,
     "metadata": {},
     "output_type": "execute_result"
    }
   ],
   "source": [
    "df_medium_income = df.loc[(df['family_income'] == 'De R$ R$ 2862,01 até R$ 3816,00') | \n",
    "                          (df['family_income'] == 'De R$ R$ 3816,01 até R$ 4770,00') | \n",
    "                          (df['family_income'] == 'De R$ R$ 4770,01 até R$ 5724,00') | \n",
    "                          (df['family_income'] == 'De R$ R$ 5724,01 até R$ 6678,00') ]\n",
    "df_medium_income.head()"
   ]
  },
  {
   "cell_type": "code",
   "execution_count": 61,
   "metadata": {},
   "outputs": [
    {
     "data": {
      "text/plain": [
       "(664514, 17)"
      ]
     },
     "execution_count": 61,
     "metadata": {},
     "output_type": "execute_result"
    }
   ],
   "source": [
    "df_medium_income.shape"
   ]
  },
  {
   "cell_type": "code",
   "execution_count": 62,
   "metadata": {},
   "outputs": [
    {
     "data": {
      "text/html": [
       "<div>\n",
       "<style scoped>\n",
       "    .dataframe tbody tr th:only-of-type {\n",
       "        vertical-align: middle;\n",
       "    }\n",
       "\n",
       "    .dataframe tbody tr th {\n",
       "        vertical-align: top;\n",
       "    }\n",
       "\n",
       "    .dataframe thead th {\n",
       "        text-align: right;\n",
       "    }\n",
       "</style>\n",
       "<table border=\"1\" class=\"dataframe\">\n",
       "  <thead>\n",
       "    <tr style=\"text-align: right;\">\n",
       "      <th></th>\n",
       "      <th>NO_MUNICIPIO_RESIDENCIA</th>\n",
       "      <th>SG_UF_RESIDENCIA</th>\n",
       "      <th>NU_IDADE</th>\n",
       "      <th>TP_SEXO</th>\n",
       "      <th>NU_NOTA_CN</th>\n",
       "      <th>NU_NOTA_CH</th>\n",
       "      <th>NU_NOTA_LC</th>\n",
       "      <th>NU_NOTA_MT</th>\n",
       "      <th>NU_NOTA_REDACAO</th>\n",
       "      <th>father_schooling</th>\n",
       "      <th>mother_schooling</th>\n",
       "      <th>family_income</th>\n",
       "      <th>has_computer</th>\n",
       "      <th>has_internet</th>\n",
       "      <th>color/race</th>\n",
       "      <th>school_type</th>\n",
       "      <th>mean_score</th>\n",
       "    </tr>\n",
       "  </thead>\n",
       "  <tbody>\n",
       "    <tr>\n",
       "      <th>459</th>\n",
       "      <td>Campinas</td>\n",
       "      <td>SP</td>\n",
       "      <td>17</td>\n",
       "      <td>M</td>\n",
       "      <td>611.7</td>\n",
       "      <td>594.5</td>\n",
       "      <td>593.9</td>\n",
       "      <td>496.2</td>\n",
       "      <td>680.0</td>\n",
       "      <td>Completou o ensino médio mas não a faculdade</td>\n",
       "      <td>Completou a faculdade mas não completou a pós</td>\n",
       "      <td>De R$ R$ 8586,01 até R$ 9540,00</td>\n",
       "      <td>Sim, um</td>\n",
       "      <td>Sim</td>\n",
       "      <td>Branca</td>\n",
       "      <td>Não respondeu</td>\n",
       "      <td>574.075</td>\n",
       "    </tr>\n",
       "    <tr>\n",
       "      <th>522</th>\n",
       "      <td>Rio de Janeiro</td>\n",
       "      <td>RJ</td>\n",
       "      <td>22</td>\n",
       "      <td>F</td>\n",
       "      <td>431.7</td>\n",
       "      <td>560.9</td>\n",
       "      <td>479.7</td>\n",
       "      <td>557.0</td>\n",
       "      <td>560.0</td>\n",
       "      <td>Completou a faculdade mas não completou a pós</td>\n",
       "      <td>Não completou a 4ªserie/5ºano</td>\n",
       "      <td>De R$ R$ 8586,01 até R$ 9540,00</td>\n",
       "      <td>Sim, dois</td>\n",
       "      <td>Sim</td>\n",
       "      <td>Parda</td>\n",
       "      <td>Pública</td>\n",
       "      <td>507.325</td>\n",
       "    </tr>\n",
       "    <tr>\n",
       "      <th>559</th>\n",
       "      <td>Santos</td>\n",
       "      <td>SP</td>\n",
       "      <td>18</td>\n",
       "      <td>M</td>\n",
       "      <td>574.6</td>\n",
       "      <td>620.1</td>\n",
       "      <td>573.1</td>\n",
       "      <td>495.1</td>\n",
       "      <td>500.0</td>\n",
       "      <td>Completou a faculdade mas não completou a pós</td>\n",
       "      <td>Completou a pós-graduação</td>\n",
       "      <td>De R$ R$ 6678,01 até R$ 7632,00</td>\n",
       "      <td>Sim, um</td>\n",
       "      <td>Sim</td>\n",
       "      <td>Branca</td>\n",
       "      <td>Pública</td>\n",
       "      <td>565.725</td>\n",
       "    </tr>\n",
       "    <tr>\n",
       "      <th>1017</th>\n",
       "      <td>Cotia</td>\n",
       "      <td>SP</td>\n",
       "      <td>25</td>\n",
       "      <td>M</td>\n",
       "      <td>594.9</td>\n",
       "      <td>665.9</td>\n",
       "      <td>654.4</td>\n",
       "      <td>616.3</td>\n",
       "      <td>480.0</td>\n",
       "      <td>Completou a pós-graduação</td>\n",
       "      <td>Completou a pós-graduação</td>\n",
       "      <td>De R$ R$ 7632,01 até R$ 8586,00</td>\n",
       "      <td>Sim, dois</td>\n",
       "      <td>Sim</td>\n",
       "      <td>Branca</td>\n",
       "      <td>Não respondeu</td>\n",
       "      <td>632.875</td>\n",
       "    </tr>\n",
       "    <tr>\n",
       "      <th>1102</th>\n",
       "      <td>Diadema</td>\n",
       "      <td>SP</td>\n",
       "      <td>18</td>\n",
       "      <td>F</td>\n",
       "      <td>660.6</td>\n",
       "      <td>671.1</td>\n",
       "      <td>668.0</td>\n",
       "      <td>732.0</td>\n",
       "      <td>800.0</td>\n",
       "      <td>Completou a pós-graduação</td>\n",
       "      <td>Completou a faculdade mas não completou a pós</td>\n",
       "      <td>De R$ R$ 6678,01 até R$ 7632,00</td>\n",
       "      <td>Sim, dois</td>\n",
       "      <td>Sim</td>\n",
       "      <td>Branca</td>\n",
       "      <td>Não respondeu</td>\n",
       "      <td>682.925</td>\n",
       "    </tr>\n",
       "  </tbody>\n",
       "</table>\n",
       "</div>"
      ],
      "text/plain": [
       "     NO_MUNICIPIO_RESIDENCIA SG_UF_RESIDENCIA  NU_IDADE TP_SEXO  NU_NOTA_CN  \\\n",
       "459                 Campinas               SP        17       M       611.7   \n",
       "522           Rio de Janeiro               RJ        22       F       431.7   \n",
       "559                   Santos               SP        18       M       574.6   \n",
       "1017                   Cotia               SP        25       M       594.9   \n",
       "1102                 Diadema               SP        18       F       660.6   \n",
       "\n",
       "      NU_NOTA_CH  NU_NOTA_LC  NU_NOTA_MT  NU_NOTA_REDACAO  \\\n",
       "459        594.5       593.9       496.2            680.0   \n",
       "522        560.9       479.7       557.0            560.0   \n",
       "559        620.1       573.1       495.1            500.0   \n",
       "1017       665.9       654.4       616.3            480.0   \n",
       "1102       671.1       668.0       732.0            800.0   \n",
       "\n",
       "                                   father_schooling  \\\n",
       "459    Completou o ensino médio mas não a faculdade   \n",
       "522   Completou a faculdade mas não completou a pós   \n",
       "559   Completou a faculdade mas não completou a pós   \n",
       "1017                      Completou a pós-graduação   \n",
       "1102                      Completou a pós-graduação   \n",
       "\n",
       "                                   mother_schooling  \\\n",
       "459   Completou a faculdade mas não completou a pós   \n",
       "522                   Não completou a 4ªserie/5ºano   \n",
       "559                       Completou a pós-graduação   \n",
       "1017                      Completou a pós-graduação   \n",
       "1102  Completou a faculdade mas não completou a pós   \n",
       "\n",
       "                        family_income has_computer has_internet color/race  \\\n",
       "459   De R$ R$ 8586,01 até R$ 9540,00      Sim, um          Sim     Branca   \n",
       "522   De R$ R$ 8586,01 até R$ 9540,00    Sim, dois          Sim      Parda   \n",
       "559   De R$ R$ 6678,01 até R$ 7632,00      Sim, um          Sim     Branca   \n",
       "1017  De R$ R$ 7632,01 até R$ 8586,00    Sim, dois          Sim     Branca   \n",
       "1102  De R$ R$ 6678,01 até R$ 7632,00    Sim, dois          Sim     Branca   \n",
       "\n",
       "        school_type  mean_score  \n",
       "459   Não respondeu     574.075  \n",
       "522         Pública     507.325  \n",
       "559         Pública     565.725  \n",
       "1017  Não respondeu     632.875  \n",
       "1102  Não respondeu     682.925  "
      ]
     },
     "execution_count": 62,
     "metadata": {},
     "output_type": "execute_result"
    }
   ],
   "source": [
    "df_high_income = df.loc[(df['family_income'] == 'De R$ R$ 6678,01 até R$ 7632,00') | \n",
    "                        (df['family_income'] == 'De R$ R$ 7632,01 até R$ 8586,00') | \n",
    "                        (df['family_income'] == 'De R$ R$ 8586,01 até R$ 9540,00') | \n",
    "                        (df['family_income'] == 'De R$ R$ 9540,01 até R$ 11.448,00') |\n",
    "                        (df['family_income'] == 'De R$ R$ 11.448,01 até R$ 14.310,00')]\n",
    "df_high_income.head()"
   ]
  },
  {
   "cell_type": "code",
   "execution_count": 63,
   "metadata": {},
   "outputs": [
    {
     "data": {
      "text/plain": [
       "(224752, 17)"
      ]
     },
     "execution_count": 63,
     "metadata": {},
     "output_type": "execute_result"
    }
   ],
   "source": [
    "df_high_income.shape"
   ]
  },
  {
   "cell_type": "code",
   "execution_count": 64,
   "metadata": {
    "scrolled": false
   },
   "outputs": [
    {
     "data": {
      "text/html": [
       "<div>\n",
       "<style scoped>\n",
       "    .dataframe tbody tr th:only-of-type {\n",
       "        vertical-align: middle;\n",
       "    }\n",
       "\n",
       "    .dataframe tbody tr th {\n",
       "        vertical-align: top;\n",
       "    }\n",
       "\n",
       "    .dataframe thead th {\n",
       "        text-align: right;\n",
       "    }\n",
       "</style>\n",
       "<table border=\"1\" class=\"dataframe\">\n",
       "  <thead>\n",
       "    <tr style=\"text-align: right;\">\n",
       "      <th></th>\n",
       "      <th>NO_MUNICIPIO_RESIDENCIA</th>\n",
       "      <th>SG_UF_RESIDENCIA</th>\n",
       "      <th>NU_IDADE</th>\n",
       "      <th>TP_SEXO</th>\n",
       "      <th>NU_NOTA_CN</th>\n",
       "      <th>NU_NOTA_CH</th>\n",
       "      <th>NU_NOTA_LC</th>\n",
       "      <th>NU_NOTA_MT</th>\n",
       "      <th>NU_NOTA_REDACAO</th>\n",
       "      <th>father_schooling</th>\n",
       "      <th>mother_schooling</th>\n",
       "      <th>family_income</th>\n",
       "      <th>has_computer</th>\n",
       "      <th>has_internet</th>\n",
       "      <th>color/race</th>\n",
       "      <th>school_type</th>\n",
       "      <th>mean_score</th>\n",
       "    </tr>\n",
       "  </thead>\n",
       "  <tbody>\n",
       "    <tr>\n",
       "      <th>1660</th>\n",
       "      <td>Americana</td>\n",
       "      <td>SP</td>\n",
       "      <td>20</td>\n",
       "      <td>F</td>\n",
       "      <td>637.4</td>\n",
       "      <td>640.5</td>\n",
       "      <td>664.4</td>\n",
       "      <td>767.8</td>\n",
       "      <td>940.0</td>\n",
       "      <td>Completou a pós-graduação</td>\n",
       "      <td>Completou a faculdade mas não completou a pós</td>\n",
       "      <td>Mais de R$ 19.080,00</td>\n",
       "      <td>Sim, três</td>\n",
       "      <td>Sim</td>\n",
       "      <td>Branca</td>\n",
       "      <td>Não respondeu</td>\n",
       "      <td>677.525</td>\n",
       "    </tr>\n",
       "    <tr>\n",
       "      <th>1697</th>\n",
       "      <td>Parnamirim</td>\n",
       "      <td>RN</td>\n",
       "      <td>19</td>\n",
       "      <td>M</td>\n",
       "      <td>692.6</td>\n",
       "      <td>687.9</td>\n",
       "      <td>642.4</td>\n",
       "      <td>787.2</td>\n",
       "      <td>940.0</td>\n",
       "      <td>Completou a faculdade mas não completou a pós</td>\n",
       "      <td>Completou o ensino médio mas não a faculdade</td>\n",
       "      <td>Mais de R$ 19.080,00</td>\n",
       "      <td>Sim, três</td>\n",
       "      <td>Sim</td>\n",
       "      <td>Branca</td>\n",
       "      <td>Não respondeu</td>\n",
       "      <td>702.525</td>\n",
       "    </tr>\n",
       "    <tr>\n",
       "      <th>1968</th>\n",
       "      <td>Brasília</td>\n",
       "      <td>DF</td>\n",
       "      <td>15</td>\n",
       "      <td>F</td>\n",
       "      <td>481.4</td>\n",
       "      <td>647.9</td>\n",
       "      <td>624.1</td>\n",
       "      <td>590.2</td>\n",
       "      <td>380.0</td>\n",
       "      <td>Completou o ensino médio mas não a faculdade</td>\n",
       "      <td>Completou a pós-graduação</td>\n",
       "      <td>Mais de R$ 19.080,00</td>\n",
       "      <td>Sim, três</td>\n",
       "      <td>Sim</td>\n",
       "      <td>Branca</td>\n",
       "      <td>Não respondeu</td>\n",
       "      <td>585.900</td>\n",
       "    </tr>\n",
       "    <tr>\n",
       "      <th>2021</th>\n",
       "      <td>Fortaleza</td>\n",
       "      <td>CE</td>\n",
       "      <td>19</td>\n",
       "      <td>M</td>\n",
       "      <td>728.9</td>\n",
       "      <td>717.4</td>\n",
       "      <td>702.8</td>\n",
       "      <td>947.1</td>\n",
       "      <td>940.0</td>\n",
       "      <td>Completou a pós-graduação</td>\n",
       "      <td>Completou a pós-graduação</td>\n",
       "      <td>Mais de R$ 19.080,00</td>\n",
       "      <td>Sim, um</td>\n",
       "      <td>Sim</td>\n",
       "      <td>Branca</td>\n",
       "      <td>Não respondeu</td>\n",
       "      <td>774.050</td>\n",
       "    </tr>\n",
       "    <tr>\n",
       "      <th>2450</th>\n",
       "      <td>São Paulo</td>\n",
       "      <td>SP</td>\n",
       "      <td>18</td>\n",
       "      <td>M</td>\n",
       "      <td>727.4</td>\n",
       "      <td>718.4</td>\n",
       "      <td>645.0</td>\n",
       "      <td>751.3</td>\n",
       "      <td>900.0</td>\n",
       "      <td>Completou o ensino médio mas não a faculdade</td>\n",
       "      <td>Completou a pós-graduação</td>\n",
       "      <td>Mais de R$ 19.080,00</td>\n",
       "      <td>Sim, quatro ou mais</td>\n",
       "      <td>Sim</td>\n",
       "      <td>Branca</td>\n",
       "      <td>Exterior</td>\n",
       "      <td>710.525</td>\n",
       "    </tr>\n",
       "  </tbody>\n",
       "</table>\n",
       "</div>"
      ],
      "text/plain": [
       "     NO_MUNICIPIO_RESIDENCIA SG_UF_RESIDENCIA  NU_IDADE TP_SEXO  NU_NOTA_CN  \\\n",
       "1660               Americana               SP        20       F       637.4   \n",
       "1697              Parnamirim               RN        19       M       692.6   \n",
       "1968                Brasília               DF        15       F       481.4   \n",
       "2021               Fortaleza               CE        19       M       728.9   \n",
       "2450               São Paulo               SP        18       M       727.4   \n",
       "\n",
       "      NU_NOTA_CH  NU_NOTA_LC  NU_NOTA_MT  NU_NOTA_REDACAO  \\\n",
       "1660       640.5       664.4       767.8            940.0   \n",
       "1697       687.9       642.4       787.2            940.0   \n",
       "1968       647.9       624.1       590.2            380.0   \n",
       "2021       717.4       702.8       947.1            940.0   \n",
       "2450       718.4       645.0       751.3            900.0   \n",
       "\n",
       "                                   father_schooling  \\\n",
       "1660                      Completou a pós-graduação   \n",
       "1697  Completou a faculdade mas não completou a pós   \n",
       "1968   Completou o ensino médio mas não a faculdade   \n",
       "2021                      Completou a pós-graduação   \n",
       "2450   Completou o ensino médio mas não a faculdade   \n",
       "\n",
       "                                   mother_schooling         family_income  \\\n",
       "1660  Completou a faculdade mas não completou a pós  Mais de R$ 19.080,00   \n",
       "1697   Completou o ensino médio mas não a faculdade  Mais de R$ 19.080,00   \n",
       "1968                      Completou a pós-graduação  Mais de R$ 19.080,00   \n",
       "2021                      Completou a pós-graduação  Mais de R$ 19.080,00   \n",
       "2450                      Completou a pós-graduação  Mais de R$ 19.080,00   \n",
       "\n",
       "             has_computer has_internet color/race    school_type  mean_score  \n",
       "1660            Sim, três          Sim     Branca  Não respondeu     677.525  \n",
       "1697            Sim, três          Sim     Branca  Não respondeu     702.525  \n",
       "1968            Sim, três          Sim     Branca  Não respondeu     585.900  \n",
       "2021              Sim, um          Sim     Branca  Não respondeu     774.050  \n",
       "2450  Sim, quatro ou mais          Sim     Branca       Exterior     710.525  "
      ]
     },
     "execution_count": 64,
     "metadata": {},
     "output_type": "execute_result"
    }
   ],
   "source": [
    "df_max_income = df.loc[df['family_income'] == 'Mais de R$ 19.080,00']\n",
    "df_max_income.head()"
   ]
  },
  {
   "cell_type": "code",
   "execution_count": 65,
   "metadata": {},
   "outputs": [
    {
     "data": {
      "text/plain": [
       "(45020, 17)"
      ]
     },
     "execution_count": 65,
     "metadata": {},
     "output_type": "execute_result"
    }
   ],
   "source": [
    "df_max_income.shape"
   ]
  },
  {
   "cell_type": "code",
   "execution_count": 81,
   "metadata": {},
   "outputs": [],
   "source": [
    "n3 = df_low_income['mean_score']\n",
    "n4 = df_medium_income['mean_score']\n",
    "\n",
    "result2 = sm.stats.ttest_ind(x1=n3, x2=n4, value=0, alternative='two-sided', weights=(None, None), usevar='pooled')"
   ]
  },
  {
   "cell_type": "code",
   "execution_count": 77,
   "metadata": {},
   "outputs": [
    {
     "name": "stdout",
     "output_type": "stream",
     "text": [
      "Rejeita-se a hipótese nula\n"
     ]
    }
   ],
   "source": [
    "hipo_result(result2[1])"
   ]
  },
  {
   "cell_type": "code",
   "execution_count": 78,
   "metadata": {},
   "outputs": [
    {
     "data": {
      "text/plain": [
       "(-642.3952374962714, 0.0, 3588515.0)"
      ]
     },
     "execution_count": 78,
     "metadata": {},
     "output_type": "execute_result"
    }
   ],
   "source": [
    "result2"
   ]
  },
  {
   "cell_type": "code",
   "execution_count": 80,
   "metadata": {},
   "outputs": [],
   "source": [
    "n5 = df_high_income['mean_score']\n",
    "\n",
    "result3 = sm.stats.ttest_ind(x1=n4, x2=n5, value=0, alternative='two-sided', weights=(None, None), usevar='pooled')"
   ]
  },
  {
   "cell_type": "code",
   "execution_count": 82,
   "metadata": {},
   "outputs": [
    {
     "name": "stdout",
     "output_type": "stream",
     "text": [
      "Rejeita-se a hipótese nula\n"
     ]
    }
   ],
   "source": [
    "hipo_result(result3[1])"
   ]
  },
  {
   "cell_type": "code",
   "execution_count": 83,
   "metadata": {
    "scrolled": true
   },
   "outputs": [
    {
     "data": {
      "text/plain": [
       "(-222.14865900280435, 0.0, 889264.0)"
      ]
     },
     "execution_count": 83,
     "metadata": {},
     "output_type": "execute_result"
    }
   ],
   "source": [
    "result3"
   ]
  },
  {
   "cell_type": "code",
   "execution_count": 88,
   "metadata": {},
   "outputs": [
    {
     "data": {
      "image/png": "[encoded data removed]",
      "text/plain": [
       "<Figure size 1800x720 with 1 Axes>"
      ]
     },
     "metadata": {
      "needs_background": "light"
     },
     "output_type": "display_data"
    }
   ],
   "source": [
    "plt.figure(figsize=(25,10))\n",
    "sns.boxplot(x=df_low_income['family_income'], y=df['mean_score'], data=df)\n",
    "sns.despine(offset=10, trim=True)"
   ]
  },
  {
   "cell_type": "code",
   "execution_count": null,
   "metadata": {},
   "outputs": [],
   "source": []
  }
 ],
 "metadata": {
  "kernelspec": {
   "display_name": "Python 3",
   "language": "python",
   "name": "python3"
  },
  "language_info": {
   "codemirror_mode": {
    "name": "ipython",
    "version": 3
   },
   "file_extension": ".py",
   "mimetype": "text/x-python",
   "name": "python",
   "nbconvert_exporter": "python",
   "pygments_lexer": "ipython3",
   "version": "3.7.6"
  }
 },
 "nbformat": 4,
 "nbformat_minor": 4
}
